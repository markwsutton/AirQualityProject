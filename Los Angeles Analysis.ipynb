{
 "cells": [
  {
   "cell_type": "code",
   "execution_count": 19,
   "metadata": {},
   "outputs": [
    {
     "data": {
      "text/html": [
       "<div>\n",
       "<style scoped>\n",
       "    .dataframe tbody tr th:only-of-type {\n",
       "        vertical-align: middle;\n",
       "    }\n",
       "\n",
       "    .dataframe tbody tr th {\n",
       "        vertical-align: top;\n",
       "    }\n",
       "\n",
       "    .dataframe thead th {\n",
       "        text-align: right;\n",
       "    }\n",
       "</style>\n",
       "<table border=\"1\" class=\"dataframe\">\n",
       "  <thead>\n",
       "    <tr style=\"text-align: right;\">\n",
       "      <th></th>\n",
       "      <th>Country</th>\n",
       "      <th>City</th>\n",
       "      <th>Specie</th>\n",
       "      <th>count</th>\n",
       "      <th>min (ug/m3)</th>\n",
       "      <th>max (ug/m3)</th>\n",
       "      <th>median (ug/m3)</th>\n",
       "    </tr>\n",
       "    <tr>\n",
       "      <th>Date</th>\n",
       "      <th></th>\n",
       "      <th></th>\n",
       "      <th></th>\n",
       "      <th></th>\n",
       "      <th></th>\n",
       "      <th></th>\n",
       "      <th></th>\n",
       "    </tr>\n",
       "  </thead>\n",
       "  <tbody>\n",
       "    <tr>\n",
       "      <th>2017-01-01</th>\n",
       "      <td>IN</td>\n",
       "      <td>New Delhi</td>\n",
       "      <td>pm25</td>\n",
       "      <td>24</td>\n",
       "      <td>54.9</td>\n",
       "      <td>282.7</td>\n",
       "      <td>177.7</td>\n",
       "    </tr>\n",
       "    <tr>\n",
       "      <th>2017-01-01</th>\n",
       "      <td>CN</td>\n",
       "      <td>Shanghai</td>\n",
       "      <td>pm25</td>\n",
       "      <td>215</td>\n",
       "      <td>12.0</td>\n",
       "      <td>63.2</td>\n",
       "      <td>34.4</td>\n",
       "    </tr>\n",
       "    <tr>\n",
       "      <th>2017-01-01</th>\n",
       "      <td>US</td>\n",
       "      <td>Jacksonville</td>\n",
       "      <td>pm25</td>\n",
       "      <td>115</td>\n",
       "      <td>3.1</td>\n",
       "      <td>113.6</td>\n",
       "      <td>8.1</td>\n",
       "    </tr>\n",
       "    <tr>\n",
       "      <th>2017-01-01</th>\n",
       "      <td>US</td>\n",
       "      <td>Los Angeles</td>\n",
       "      <td>pm25</td>\n",
       "      <td>69</td>\n",
       "      <td>3.3</td>\n",
       "      <td>109.7</td>\n",
       "      <td>15.9</td>\n",
       "    </tr>\n",
       "    <tr>\n",
       "      <th>2017-01-01</th>\n",
       "      <td>US</td>\n",
       "      <td>Manhattan</td>\n",
       "      <td>pm25</td>\n",
       "      <td>96</td>\n",
       "      <td>4.3</td>\n",
       "      <td>23.0</td>\n",
       "      <td>12.1</td>\n",
       "    </tr>\n",
       "  </tbody>\n",
       "</table>\n",
       "</div>"
      ],
      "text/plain": [
       "           Country          City Specie  count  min (ug/m3)  max (ug/m3)  \\\n",
       "Date                                                                       \n",
       "2017-01-01      IN     New Delhi   pm25     24         54.9        282.7   \n",
       "2017-01-01      CN      Shanghai   pm25    215         12.0         63.2   \n",
       "2017-01-01      US  Jacksonville   pm25    115          3.1        113.6   \n",
       "2017-01-01      US   Los Angeles   pm25     69          3.3        109.7   \n",
       "2017-01-01      US     Manhattan   pm25     96          4.3         23.0   \n",
       "\n",
       "            median (ug/m3)  \n",
       "Date                        \n",
       "2017-01-01           177.7  \n",
       "2017-01-01            34.4  \n",
       "2017-01-01             8.1  \n",
       "2017-01-01            15.9  \n",
       "2017-01-01            12.1  "
      ]
     },
     "execution_count": 19,
     "metadata": {},
     "output_type": "execute_result"
    }
   ],
   "source": [
    "import pandas as pd\n",
    "import datetime\n",
    "\n",
    "all_o3_df = pd.read_csv(\"./Resources/all_years_o3.csv\")\n",
    "#turn date column elements into datetime objects\n",
    "all_o3_df[\"Date\"] = pd.to_datetime(all_o3_df[\"Date\"])\n",
    "all_o3_df = all_o3_df.set_index(\"Date\")\n",
    "\n",
    "all_pm25_df = pd.read_csv(\"./Resources/all_years_pm25.csv\")\n",
    "#turn date column elements into datetime objects\n",
    "all_pm25_df[\"Date\"] = pd.to_datetime(all_pm25_df[\"Date\"])\n",
    "all_pm25_df = all_pm25_df.set_index(\"Date\")\n",
    "all_pm25_df.head()"
   ]
  },
  {
   "cell_type": "code",
   "execution_count": 20,
   "metadata": {},
   "outputs": [],
   "source": [
    "#inputs for the function are the complete dataframe for one particulate (df), the city name (city), an integer tuple in the \n",
    "#form of (month, day) for the shutdown date (shutdown_date, for example (1, 23) for 1/23) - NOTE that this is the \n",
    "#date where the strictest lockdown regulations start for that city, and an integer tuple in the \n",
    "#form of (month, day) for the reopen date (reopen_date, for example (4, 8) for 4/8) - NOTE that this is the date when the city \n",
    "#begins to reopen from the strictest lockdown regulations\n",
    "#\n",
    "#returns a dataframe with the correct shutdown date ranges for all years in the data set\n",
    "def shutdownData(df, city, shutdown_date, reopen_date):\n",
    "\n",
    "    mask = ((pd.Series(map(lambda x: x.month <= shutdown_date[0], df.index.date), index=df.index)) &\n",
    "                                                ((pd.Series(map(lambda x: x.day < shutdown_date[1], df.index.date), index=df.index))))\n",
    "    #first get dates after the start date for all years\n",
    "    shutdown_time_period_df = df.loc[~mask, :]\n",
    "\n",
    "    #remove the later months\n",
    "    shutdown_time_period_df = shutdown_time_period_df.loc[shutdown_time_period_df.index.month<=reopen_date[0]]\n",
    "\n",
    "    #now get dates before the end date\n",
    "    mask2 = ((pd.Series(map(lambda x: x.month == reopen_date[0], shutdown_time_period_df.index.date), index=shutdown_time_period_df.index)) &\n",
    "                                                ((pd.Series(map(lambda x: x.day >= reopen_date[1], shutdown_time_period_df.index.date), index=shutdown_time_period_df.index))))\n",
    "\n",
    "    shutdown_time_period_df = shutdown_time_period_df.loc[~mask2, :]\n",
    "\n",
    "    shutdown_time_period_df = shutdown_time_period_df.loc[shutdown_time_period_df[\"City\"] == city]\n",
    "    \n",
    "    return shutdown_time_period_df\n",
    "\n",
    "shutdown_time_period_pm_df = shutdownData(all_pm25_df, \"Los Angeles\", (3, 19), (5, 8))\n",
    "\n",
    "#print(\"The 'shutdownData' function is working correctly:\", test_df.equals(shutdown_time_period_pm_df))"
   ]
  },
  {
   "cell_type": "code",
   "execution_count": 21,
   "metadata": {},
   "outputs": [
    {
     "data": {
      "text/html": [
       "<div>\n",
       "<style scoped>\n",
       "    .dataframe tbody tr th:only-of-type {\n",
       "        vertical-align: middle;\n",
       "    }\n",
       "\n",
       "    .dataframe tbody tr th {\n",
       "        vertical-align: top;\n",
       "    }\n",
       "\n",
       "    .dataframe thead th {\n",
       "        text-align: right;\n",
       "    }\n",
       "</style>\n",
       "<table border=\"1\" class=\"dataframe\">\n",
       "  <thead>\n",
       "    <tr style=\"text-align: right;\">\n",
       "      <th></th>\n",
       "      <th>Country</th>\n",
       "      <th>City</th>\n",
       "      <th>Specie</th>\n",
       "      <th>count</th>\n",
       "      <th>min (ppb)</th>\n",
       "      <th>max (ppb)</th>\n",
       "      <th>median (ppb)</th>\n",
       "    </tr>\n",
       "    <tr>\n",
       "      <th>Date</th>\n",
       "      <th></th>\n",
       "      <th></th>\n",
       "      <th></th>\n",
       "      <th></th>\n",
       "      <th></th>\n",
       "      <th></th>\n",
       "      <th></th>\n",
       "    </tr>\n",
       "  </thead>\n",
       "  <tbody>\n",
       "    <tr>\n",
       "      <th>2017-01-19</th>\n",
       "      <td>US</td>\n",
       "      <td>Los Angeles</td>\n",
       "      <td>o3</td>\n",
       "      <td>18</td>\n",
       "      <td>5.0</td>\n",
       "      <td>32.0</td>\n",
       "      <td>23.0</td>\n",
       "    </tr>\n",
       "    <tr>\n",
       "      <th>2017-01-20</th>\n",
       "      <td>US</td>\n",
       "      <td>Los Angeles</td>\n",
       "      <td>o3</td>\n",
       "      <td>24</td>\n",
       "      <td>7.0</td>\n",
       "      <td>34.0</td>\n",
       "      <td>21.0</td>\n",
       "    </tr>\n",
       "    <tr>\n",
       "      <th>2017-01-21</th>\n",
       "      <td>US</td>\n",
       "      <td>Los Angeles</td>\n",
       "      <td>o3</td>\n",
       "      <td>24</td>\n",
       "      <td>7.0</td>\n",
       "      <td>35.0</td>\n",
       "      <td>29.0</td>\n",
       "    </tr>\n",
       "    <tr>\n",
       "      <th>2017-01-22</th>\n",
       "      <td>US</td>\n",
       "      <td>Los Angeles</td>\n",
       "      <td>o3</td>\n",
       "      <td>24</td>\n",
       "      <td>6.0</td>\n",
       "      <td>33.0</td>\n",
       "      <td>19.0</td>\n",
       "    </tr>\n",
       "    <tr>\n",
       "      <th>2017-01-23</th>\n",
       "      <td>US</td>\n",
       "      <td>Los Angeles</td>\n",
       "      <td>o3</td>\n",
       "      <td>24</td>\n",
       "      <td>1.0</td>\n",
       "      <td>37.0</td>\n",
       "      <td>30.0</td>\n",
       "    </tr>\n",
       "    <tr>\n",
       "      <th>...</th>\n",
       "      <td>...</td>\n",
       "      <td>...</td>\n",
       "      <td>...</td>\n",
       "      <td>...</td>\n",
       "      <td>...</td>\n",
       "      <td>...</td>\n",
       "      <td>...</td>\n",
       "    </tr>\n",
       "    <tr>\n",
       "      <th>2020-05-03</th>\n",
       "      <td>US</td>\n",
       "      <td>Los Angeles</td>\n",
       "      <td>o3</td>\n",
       "      <td>24</td>\n",
       "      <td>3.0</td>\n",
       "      <td>33.0</td>\n",
       "      <td>21.0</td>\n",
       "    </tr>\n",
       "    <tr>\n",
       "      <th>2020-05-04</th>\n",
       "      <td>US</td>\n",
       "      <td>Los Angeles</td>\n",
       "      <td>o3</td>\n",
       "      <td>24</td>\n",
       "      <td>1.0</td>\n",
       "      <td>52.0</td>\n",
       "      <td>19.0</td>\n",
       "    </tr>\n",
       "    <tr>\n",
       "      <th>2020-05-05</th>\n",
       "      <td>US</td>\n",
       "      <td>Los Angeles</td>\n",
       "      <td>o3</td>\n",
       "      <td>24</td>\n",
       "      <td>0.0</td>\n",
       "      <td>57.0</td>\n",
       "      <td>19.0</td>\n",
       "    </tr>\n",
       "    <tr>\n",
       "      <th>2020-05-06</th>\n",
       "      <td>US</td>\n",
       "      <td>Los Angeles</td>\n",
       "      <td>o3</td>\n",
       "      <td>24</td>\n",
       "      <td>0.0</td>\n",
       "      <td>61.0</td>\n",
       "      <td>22.0</td>\n",
       "    </tr>\n",
       "    <tr>\n",
       "      <th>2020-05-07</th>\n",
       "      <td>US</td>\n",
       "      <td>Los Angeles</td>\n",
       "      <td>o3</td>\n",
       "      <td>23</td>\n",
       "      <td>0.0</td>\n",
       "      <td>61.0</td>\n",
       "      <td>38.0</td>\n",
       "    </tr>\n",
       "  </tbody>\n",
       "</table>\n",
       "<p>293 rows × 7 columns</p>\n",
       "</div>"
      ],
      "text/plain": [
       "           Country         City Specie  count  min (ppb)  max (ppb)  \\\n",
       "Date                                                                  \n",
       "2017-01-19      US  Los Angeles     o3     18        5.0       32.0   \n",
       "2017-01-20      US  Los Angeles     o3     24        7.0       34.0   \n",
       "2017-01-21      US  Los Angeles     o3     24        7.0       35.0   \n",
       "2017-01-22      US  Los Angeles     o3     24        6.0       33.0   \n",
       "2017-01-23      US  Los Angeles     o3     24        1.0       37.0   \n",
       "...            ...          ...    ...    ...        ...        ...   \n",
       "2020-05-03      US  Los Angeles     o3     24        3.0       33.0   \n",
       "2020-05-04      US  Los Angeles     o3     24        1.0       52.0   \n",
       "2020-05-05      US  Los Angeles     o3     24        0.0       57.0   \n",
       "2020-05-06      US  Los Angeles     o3     24        0.0       61.0   \n",
       "2020-05-07      US  Los Angeles     o3     23        0.0       61.0   \n",
       "\n",
       "            median (ppb)  \n",
       "Date                      \n",
       "2017-01-19          23.0  \n",
       "2017-01-20          21.0  \n",
       "2017-01-21          29.0  \n",
       "2017-01-22          19.0  \n",
       "2017-01-23          30.0  \n",
       "...                  ...  \n",
       "2020-05-03          21.0  \n",
       "2020-05-04          19.0  \n",
       "2020-05-05          19.0  \n",
       "2020-05-06          22.0  \n",
       "2020-05-07          38.0  \n",
       "\n",
       "[293 rows x 7 columns]"
      ]
     },
     "execution_count": 21,
     "metadata": {},
     "output_type": "execute_result"
    }
   ],
   "source": [
    "#so to get the ozone information for Wuhan between the shutdown date of 1/23 and the reopening date of 4/8, we \n",
    "#need to call the function as follows:\n",
    "LA_o3_shutdown_df = shutdownData(all_o3_df, \"Los Angeles\", (3, 19), (5, 8))\n",
    "LA_o3_shutdown_df"
   ]
  },
  {
   "cell_type": "code",
   "execution_count": 22,
   "metadata": {},
   "outputs": [
    {
     "data": {
      "text/html": [
       "<div>\n",
       "<style scoped>\n",
       "    .dataframe tbody tr th:only-of-type {\n",
       "        vertical-align: middle;\n",
       "    }\n",
       "\n",
       "    .dataframe tbody tr th {\n",
       "        vertical-align: top;\n",
       "    }\n",
       "\n",
       "    .dataframe thead th {\n",
       "        text-align: right;\n",
       "    }\n",
       "</style>\n",
       "<table border=\"1\" class=\"dataframe\">\n",
       "  <thead>\n",
       "    <tr style=\"text-align: right;\">\n",
       "      <th></th>\n",
       "      <th>count</th>\n",
       "      <th>min (ug/m3)</th>\n",
       "      <th>max (ug/m3)</th>\n",
       "      <th>median (ug/m3)</th>\n",
       "    </tr>\n",
       "    <tr>\n",
       "      <th>Date</th>\n",
       "      <th></th>\n",
       "      <th></th>\n",
       "      <th></th>\n",
       "      <th></th>\n",
       "    </tr>\n",
       "  </thead>\n",
       "  <tbody>\n",
       "    <tr>\n",
       "      <th>2017</th>\n",
       "      <td>65.027397</td>\n",
       "      <td>1.850685</td>\n",
       "      <td>28.339726</td>\n",
       "      <td>10.846575</td>\n",
       "    </tr>\n",
       "    <tr>\n",
       "      <th>2018</th>\n",
       "      <td>69.917808</td>\n",
       "      <td>2.642466</td>\n",
       "      <td>31.736986</td>\n",
       "      <td>12.028767</td>\n",
       "    </tr>\n",
       "    <tr>\n",
       "      <th>2019</th>\n",
       "      <td>70.287671</td>\n",
       "      <td>2.800000</td>\n",
       "      <td>30.619178</td>\n",
       "      <td>11.052055</td>\n",
       "    </tr>\n",
       "    <tr>\n",
       "      <th>2020</th>\n",
       "      <td>61.418919</td>\n",
       "      <td>4.154054</td>\n",
       "      <td>21.256757</td>\n",
       "      <td>10.416216</td>\n",
       "    </tr>\n",
       "  </tbody>\n",
       "</table>\n",
       "</div>"
      ],
      "text/plain": [
       "          count  min (ug/m3)  max (ug/m3)  median (ug/m3)\n",
       "Date                                                     \n",
       "2017  65.027397     1.850685    28.339726       10.846575\n",
       "2018  69.917808     2.642466    31.736986       12.028767\n",
       "2019  70.287671     2.800000    30.619178       11.052055\n",
       "2020  61.418919     4.154054    21.256757       10.416216"
      ]
     },
     "execution_count": 22,
     "metadata": {},
     "output_type": "execute_result"
    }
   ],
   "source": [
    "#get average of medians by year\n",
    "bar_plot_info = shutdown_time_period_pm_df.groupby(shutdown_time_period_pm_df.index.year).mean()\n",
    "bar_plot_info"
   ]
  },
  {
   "cell_type": "code",
   "execution_count": 23,
   "metadata": {},
   "outputs": [
    {
     "data": {
      "image/png": "[encoded data removed]",
      "text/plain": [
       "<Figure size 432x288 with 1 Axes>"
      ]
     },
     "metadata": {
      "needs_background": "light"
     },
     "output_type": "display_data"
    }
   ],
   "source": [
    "#plot of average medians\n",
    "bar_plot_axes = bar_plot_info.plot(kind=\"bar\", y=\"median (ug/m3)\")\n",
    "\n",
    "#set titles, axes labels\n",
    "bar_plot_axes.set_title(\"Los Angeles Air Quality - PM2.5 Average Median\")\n",
    "bar_plot_axes.set_ylabel(\"PM2.5 Average Median (ug/m3)\")\n",
    "bar_plot_axes.set_xlabel(\"Year\")\n",
    "\n",
    "bar_plot_axes.get_figure().savefig(\"./outputs/LA/LA_pm25median.png\")"
   ]
  },
  {
   "cell_type": "code",
   "execution_count": 24,
   "metadata": {},
   "outputs": [
    {
     "data": {
      "image/png": "[encoded data removed]",
      "text/plain": [
       "<Figure size 432x288 with 1 Axes>"
      ]
     },
     "metadata": {
      "needs_background": "light"
     },
     "output_type": "display_data"
    }
   ],
   "source": [
    "#plot of average maximums\n",
    "bar_plot_axes_2 = bar_plot_info.plot(kind=\"bar\", y=\"max (ug/m3)\")\n",
    "\n",
    "#set titles, axes labels\n",
    "bar_plot_axes_2.set_title(\"Los Angeles Air Quality - PM2.5 Average Max\")\n",
    "bar_plot_axes_2.set_ylabel(\"PM2.5 Average Max (ug/m3)\")\n",
    "bar_plot_axes_2.set_xlabel(\"Year\")\n",
    "\n",
    "bar_plot_axes_2.get_figure().savefig(\"./outputs/LA/LA_pm25max.png\")"
   ]
  },
  {
   "cell_type": "code",
   "execution_count": 25,
   "metadata": {},
   "outputs": [
    {
     "data": {
      "text/html": [
       "<div>\n",
       "<style scoped>\n",
       "    .dataframe tbody tr th:only-of-type {\n",
       "        vertical-align: middle;\n",
       "    }\n",
       "\n",
       "    .dataframe tbody tr th {\n",
       "        vertical-align: top;\n",
       "    }\n",
       "\n",
       "    .dataframe thead th {\n",
       "        text-align: right;\n",
       "    }\n",
       "</style>\n",
       "<table border=\"1\" class=\"dataframe\">\n",
       "  <thead>\n",
       "    <tr style=\"text-align: right;\">\n",
       "      <th></th>\n",
       "      <th>count</th>\n",
       "      <th>min (ug/m3)</th>\n",
       "      <th>max (ug/m3)</th>\n",
       "      <th>median (ug/m3)</th>\n",
       "    </tr>\n",
       "    <tr>\n",
       "      <th>Date</th>\n",
       "      <th></th>\n",
       "      <th></th>\n",
       "      <th></th>\n",
       "      <th></th>\n",
       "    </tr>\n",
       "  </thead>\n",
       "  <tbody>\n",
       "    <tr>\n",
       "      <th>2017</th>\n",
       "      <td>NaN</td>\n",
       "      <td>NaN</td>\n",
       "      <td>NaN</td>\n",
       "      <td>NaN</td>\n",
       "    </tr>\n",
       "    <tr>\n",
       "      <th>2018</th>\n",
       "      <td>0.075205</td>\n",
       "      <td>0.427831</td>\n",
       "      <td>0.119876</td>\n",
       "      <td>0.108992</td>\n",
       "    </tr>\n",
       "    <tr>\n",
       "      <th>2019</th>\n",
       "      <td>0.005290</td>\n",
       "      <td>0.059616</td>\n",
       "      <td>-0.035221</td>\n",
       "      <td>-0.081198</td>\n",
       "    </tr>\n",
       "    <tr>\n",
       "      <th>2020</th>\n",
       "      <td>-0.126178</td>\n",
       "      <td>0.483591</td>\n",
       "      <td>-0.305770</td>\n",
       "      <td>-0.057531</td>\n",
       "    </tr>\n",
       "  </tbody>\n",
       "</table>\n",
       "</div>"
      ],
      "text/plain": [
       "         count  min (ug/m3)  max (ug/m3)  median (ug/m3)\n",
       "Date                                                    \n",
       "2017       NaN          NaN          NaN             NaN\n",
       "2018  0.075205     0.427831     0.119876        0.108992\n",
       "2019  0.005290     0.059616    -0.035221       -0.081198\n",
       "2020 -0.126178     0.483591    -0.305770       -0.057531"
      ]
     },
     "execution_count": 25,
     "metadata": {},
     "output_type": "execute_result"
    }
   ],
   "source": [
    "#get percentage decrease year over year\n",
    "bar_plot_info.pct_change()\n"
   ]
  },
  {
   "cell_type": "code",
   "execution_count": 26,
   "metadata": {},
   "outputs": [
    {
     "data": {
      "text/plain": [
       "count             68.410959\n",
       "min (ug/m3)        2.431050\n",
       "max (ug/m3)       30.231963\n",
       "median (ug/m3)    11.309132\n",
       "dtype: float64"
      ]
     },
     "execution_count": 26,
     "metadata": {},
     "output_type": "execute_result"
    }
   ],
   "source": [
    "#combine three previous years into an average median value\n",
    "prior_years_df = bar_plot_info.loc[bar_plot_info.index<2020]\n",
    "prior_averages = prior_years_df.mean()\n",
    "prior_averages"
   ]
  },
  {
   "cell_type": "code",
   "execution_count": 27,
   "metadata": {},
   "outputs": [
    {
     "data": {
      "image/png": "[encoded data removed]",
      "text/plain": [
       "<Figure size 432x288 with 1 Axes>"
      ]
     },
     "metadata": {
      "needs_background": "light"
     },
     "output_type": "display_data"
    }
   ],
   "source": [
    "summary_bar_plot = pd.DataFrame({\"average median during shutdown dates (ug/m3)\":[prior_averages[\"median (ug/m3)\"], \n",
    "                                                                                 bar_plot_info[\"median (ug/m3)\"][2020]]}, \n",
    "                                index=[\"Prior Years\", \"2020\"])\n",
    "\n",
    "summary_axes = summary_bar_plot.plot(kind=\"bar\")\n",
    "summary_bar_plot.pct_change()\n",
    "\n",
    "#set titles, axes labels\n",
    "summary_axes.set_title(\"Los Angeles Air Quality - Average Median\")\n",
    "summary_axes.set_ylabel(\"PM2.5 Average Median (ug/m3)\")\n",
    "summary_axes.set_xlabel(\"Year\")\n",
    "\n",
    "summary_axes.get_figure().savefig(\"./outputs/LA/LA_3yearmedianchange.png\")"
   ]
  },
  {
   "cell_type": "code",
   "execution_count": 28,
   "metadata": {},
   "outputs": [
    {
     "data": {
      "text/html": [
       "<div>\n",
       "<style scoped>\n",
       "    .dataframe tbody tr th:only-of-type {\n",
       "        vertical-align: middle;\n",
       "    }\n",
       "\n",
       "    .dataframe tbody tr th {\n",
       "        vertical-align: top;\n",
       "    }\n",
       "\n",
       "    .dataframe thead th {\n",
       "        text-align: right;\n",
       "    }\n",
       "</style>\n",
       "<table border=\"1\" class=\"dataframe\">\n",
       "  <thead>\n",
       "    <tr style=\"text-align: right;\">\n",
       "      <th></th>\n",
       "      <th>count</th>\n",
       "      <th>min (ppb)</th>\n",
       "      <th>max (ppb)</th>\n",
       "      <th>median (ppb)</th>\n",
       "    </tr>\n",
       "    <tr>\n",
       "      <th>Date</th>\n",
       "      <th></th>\n",
       "      <th></th>\n",
       "      <th></th>\n",
       "      <th></th>\n",
       "    </tr>\n",
       "  </thead>\n",
       "  <tbody>\n",
       "    <tr>\n",
       "      <th>2017</th>\n",
       "      <td>22.863014</td>\n",
       "      <td>4.917808</td>\n",
       "      <td>43.438356</td>\n",
       "      <td>23.109589</td>\n",
       "    </tr>\n",
       "    <tr>\n",
       "      <th>2018</th>\n",
       "      <td>24.068493</td>\n",
       "      <td>5.260274</td>\n",
       "      <td>41.958904</td>\n",
       "      <td>21.657534</td>\n",
       "    </tr>\n",
       "    <tr>\n",
       "      <th>2019</th>\n",
       "      <td>22.657534</td>\n",
       "      <td>4.698630</td>\n",
       "      <td>37.260274</td>\n",
       "      <td>18.863014</td>\n",
       "    </tr>\n",
       "    <tr>\n",
       "      <th>2020</th>\n",
       "      <td>21.864865</td>\n",
       "      <td>4.108108</td>\n",
       "      <td>36.040541</td>\n",
       "      <td>18.891892</td>\n",
       "    </tr>\n",
       "  </tbody>\n",
       "</table>\n",
       "</div>"
      ],
      "text/plain": [
       "          count  min (ppb)  max (ppb)  median (ppb)\n",
       "Date                                               \n",
       "2017  22.863014   4.917808  43.438356     23.109589\n",
       "2018  24.068493   5.260274  41.958904     21.657534\n",
       "2019  22.657534   4.698630  37.260274     18.863014\n",
       "2020  21.864865   4.108108  36.040541     18.891892"
      ]
     },
     "execution_count": 28,
     "metadata": {},
     "output_type": "execute_result"
    }
   ],
   "source": [
    "#look at o3 values for wuhan for the same time period by year\n",
    "LA_avg_o3_df = LA_o3_shutdown_df.groupby(LA_o3_shutdown_df.index.year).mean()\n",
    "LA_avg_o3_df"
   ]
  },
  {
   "cell_type": "code",
   "execution_count": 29,
   "metadata": {},
   "outputs": [
    {
     "data": {
      "text/plain": [
       "count           23.196347\n",
       "min (ppb)        4.958904\n",
       "max (ppb)       40.885845\n",
       "median (ppb)    21.210046\n",
       "dtype: float64"
      ]
     },
     "execution_count": 29,
     "metadata": {},
     "output_type": "execute_result"
    }
   ],
   "source": [
    "#combine three previous years into an average median value\n",
    "prior_years_o3_df = LA_avg_o3_df.loc[LA_avg_o3_df.index<2020]\n",
    "prior_o3_averages = prior_years_o3_df.mean()\n",
    "prior_o3_averages"
   ]
  },
  {
   "cell_type": "code",
   "execution_count": 30,
   "metadata": {},
   "outputs": [
    {
     "data": {
      "text/html": [
       "<div>\n",
       "<style scoped>\n",
       "    .dataframe tbody tr th:only-of-type {\n",
       "        vertical-align: middle;\n",
       "    }\n",
       "\n",
       "    .dataframe tbody tr th {\n",
       "        vertical-align: top;\n",
       "    }\n",
       "\n",
       "    .dataframe thead th {\n",
       "        text-align: right;\n",
       "    }\n",
       "</style>\n",
       "<table border=\"1\" class=\"dataframe\">\n",
       "  <thead>\n",
       "    <tr style=\"text-align: right;\">\n",
       "      <th></th>\n",
       "      <th>average median during shutdown dates (ppb)</th>\n",
       "    </tr>\n",
       "  </thead>\n",
       "  <tbody>\n",
       "    <tr>\n",
       "      <th>Prior Years</th>\n",
       "      <td>NaN</td>\n",
       "    </tr>\n",
       "    <tr>\n",
       "      <th>2020</th>\n",
       "      <td>-0.109295</td>\n",
       "    </tr>\n",
       "  </tbody>\n",
       "</table>\n",
       "</div>"
      ],
      "text/plain": [
       "             average median during shutdown dates (ppb)\n",
       "Prior Years                                         NaN\n",
       "2020                                          -0.109295"
      ]
     },
     "execution_count": 30,
     "metadata": {},
     "output_type": "execute_result"
    },
    {
     "data": {
      "image/png": "[encoded data removed]",
      "text/plain": [
       "<Figure size 432x288 with 1 Axes>"
      ]
     },
     "metadata": {
      "needs_background": "light"
     },
     "output_type": "display_data"
    }
   ],
   "source": [
    "summary_bar_plot = pd.DataFrame({\"average median during shutdown dates (ppb)\":[prior_o3_averages[\"median (ppb)\"], \n",
    "                                                                                 LA_avg_o3_df[\"median (ppb)\"][2020]]}, \n",
    "                                index=[\"Prior Years\", \"2020\"])\n",
    "\n",
    "o3_axes = summary_bar_plot.plot(kind=\"bar\")\n",
    "\n",
    "#set titles, axes labels\n",
    "o3_axes.set_title(\"Los Angeles Air Quality - Ozone\")\n",
    "o3_axes.set_ylabel(\"O3 Average Median (ppb)\")\n",
    "o3_axes.set_xlabel(\"Year\")\n",
    "\n",
    "o3_axes.get_figure().savefig(\"./outputs/LA/LA_3yearmedianchange_o3.png\")\n",
    "\n",
    "summary_bar_plot.pct_change()"
   ]
  },
  {
   "cell_type": "code",
   "execution_count": 31,
   "metadata": {},
   "outputs": [
    {
     "data": {
      "image/png": "[encoded data removed]",
      "text/plain": [
       "<Figure size 432x288 with 1 Axes>"
      ]
     },
     "metadata": {
      "needs_background": "light"
     },
     "output_type": "display_data"
    }
   ],
   "source": [
    "LA_2020_pm25_df = all_pm25_df.loc[(all_pm25_df.index.year == 2020) & (all_pm25_df[\"City\"] == \"Los Angeles\")]\n",
    "LA_line_axes = LA_2020_pm25_df.plot(kind=\"line\", y=\"median (ug/m3)\")\n",
    "\n",
    "#set titles, axes labels\n",
    "LA_line_axes.set_title(\"Los Angeles Air Quality 2020 - PM2.5\")\n",
    "LA_line_axes.set_ylabel(\"PM2.5 Average Median (ug/m3)\")\n",
    "LA_line_axes.set_xlabel(\"Month\")\n",
    "\n",
    "LA_line_axes.get_figure().savefig(\"./outputs/LA/LA_2020_line_plot.png\")"
   ]
  },
  {
   "cell_type": "code",
   "execution_count": null,
   "metadata": {},
   "outputs": [],
   "source": []
  },
  {
   "cell_type": "code",
   "execution_count": null,
   "metadata": {},
   "outputs": [],
   "source": []
  }
 ],
 "metadata": {
  "kernelspec": {
   "display_name": "Python 3",
   "language": "python",
   "name": "python3"
  },
  "language_info": {
   "codemirror_mode": {
    "name": "ipython",
    "version": 3
   },
   "file_extension": ".py",
   "mimetype": "text/x-python",
   "name": "python",
   "nbconvert_exporter": "python",
   "pygments_lexer": "ipython3",
   "version": "3.7.6"
  }
 },
 "nbformat": 4,
 "nbformat_minor": 4
}
