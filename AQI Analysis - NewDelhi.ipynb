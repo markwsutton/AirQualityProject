{
 "cells": [
  {
   "cell_type": "code",
   "execution_count": 1,
   "metadata": {},
   "outputs": [
    {
     "data": {
      "text/html": [
       "<div>\n",
       "<style scoped>\n",
       "    .dataframe tbody tr th:only-of-type {\n",
       "        vertical-align: middle;\n",
       "    }\n",
       "\n",
       "    .dataframe tbody tr th {\n",
       "        vertical-align: top;\n",
       "    }\n",
       "\n",
       "    .dataframe thead th {\n",
       "        text-align: right;\n",
       "    }\n",
       "</style>\n",
       "<table border=\"1\" class=\"dataframe\">\n",
       "  <thead>\n",
       "    <tr style=\"text-align: right;\">\n",
       "      <th></th>\n",
       "      <th>Country</th>\n",
       "      <th>City</th>\n",
       "      <th>Specie</th>\n",
       "      <th>count</th>\n",
       "      <th>min (ug/m3)</th>\n",
       "      <th>max (ug/m3)</th>\n",
       "      <th>median (ug/m3)</th>\n",
       "    </tr>\n",
       "    <tr>\n",
       "      <th>Date</th>\n",
       "      <th></th>\n",
       "      <th></th>\n",
       "      <th></th>\n",
       "      <th></th>\n",
       "      <th></th>\n",
       "      <th></th>\n",
       "      <th></th>\n",
       "    </tr>\n",
       "  </thead>\n",
       "  <tbody>\n",
       "    <tr>\n",
       "      <th>2017-01-01</th>\n",
       "      <td>IN</td>\n",
       "      <td>New Delhi</td>\n",
       "      <td>pm25</td>\n",
       "      <td>24</td>\n",
       "      <td>54.9</td>\n",
       "      <td>282.7</td>\n",
       "      <td>177.7</td>\n",
       "    </tr>\n",
       "    <tr>\n",
       "      <th>2017-01-01</th>\n",
       "      <td>CN</td>\n",
       "      <td>Shanghai</td>\n",
       "      <td>pm25</td>\n",
       "      <td>215</td>\n",
       "      <td>12.0</td>\n",
       "      <td>63.2</td>\n",
       "      <td>34.4</td>\n",
       "    </tr>\n",
       "    <tr>\n",
       "      <th>2017-01-01</th>\n",
       "      <td>US</td>\n",
       "      <td>Jacksonville</td>\n",
       "      <td>pm25</td>\n",
       "      <td>115</td>\n",
       "      <td>3.1</td>\n",
       "      <td>113.6</td>\n",
       "      <td>8.1</td>\n",
       "    </tr>\n",
       "    <tr>\n",
       "      <th>2017-01-01</th>\n",
       "      <td>US</td>\n",
       "      <td>Los Angeles</td>\n",
       "      <td>pm25</td>\n",
       "      <td>69</td>\n",
       "      <td>3.3</td>\n",
       "      <td>109.7</td>\n",
       "      <td>15.9</td>\n",
       "    </tr>\n",
       "    <tr>\n",
       "      <th>2017-01-01</th>\n",
       "      <td>US</td>\n",
       "      <td>Manhattan</td>\n",
       "      <td>pm25</td>\n",
       "      <td>96</td>\n",
       "      <td>4.3</td>\n",
       "      <td>23.0</td>\n",
       "      <td>12.1</td>\n",
       "    </tr>\n",
       "  </tbody>\n",
       "</table>\n",
       "</div>"
      ],
      "text/plain": [
       "           Country          City Specie  count  min (ug/m3)  max (ug/m3)  \\\n",
       "Date                                                                       \n",
       "2017-01-01      IN     New Delhi   pm25     24         54.9        282.7   \n",
       "2017-01-01      CN      Shanghai   pm25    215         12.0         63.2   \n",
       "2017-01-01      US  Jacksonville   pm25    115          3.1        113.6   \n",
       "2017-01-01      US   Los Angeles   pm25     69          3.3        109.7   \n",
       "2017-01-01      US     Manhattan   pm25     96          4.3         23.0   \n",
       "\n",
       "            median (ug/m3)  \n",
       "Date                        \n",
       "2017-01-01           177.7  \n",
       "2017-01-01            34.4  \n",
       "2017-01-01             8.1  \n",
       "2017-01-01            15.9  \n",
       "2017-01-01            12.1  "
      ]
     },
     "execution_count": 1,
     "metadata": {},
     "output_type": "execute_result"
    }
   ],
   "source": [
    "import pandas as pd\n",
    "import datetime\n",
    "\n",
    "all_o3_df = pd.read_csv(\"./Resources/all_years_o3.csv\")\n",
    "#turn date column elements into datetime objects\n",
    "all_o3_df[\"Date\"] = pd.to_datetime(all_o3_df[\"Date\"])\n",
    "all_o3_df = all_o3_df.set_index(\"Date\")\n",
    "\n",
    "all_pm25_df = pd.read_csv(\"./Resources/all_years_pm25.csv\")\n",
    "#turn date column elements into datetime objects\n",
    "all_pm25_df[\"Date\"] = pd.to_datetime(all_pm25_df[\"Date\"])\n",
    "all_pm25_df = all_pm25_df.set_index(\"Date\")\n",
    "all_pm25_df.head()"
   ]
  },
  {
   "cell_type": "code",
   "execution_count": 3,
   "metadata": {},
   "outputs": [
    {
     "name": "stdout",
     "output_type": "stream",
     "text": [
      "           Country       City Specie  count  min (ug/m3)  max (ug/m3)  \\\n",
      "Date                                                                    \n",
      "2017-01-24      IN  New Delhi   pm25     24        100.0        359.5   \n",
      "2017-01-25      IN  New Delhi   pm25     24        107.7        301.9   \n",
      "2017-01-26      IN  New Delhi   pm25     24         30.1        177.7   \n",
      "2017-01-27      IN  New Delhi   pm25     24         13.0        136.8   \n",
      "2017-01-28      IN  New Delhi   pm25     13         90.3        187.8   \n",
      "\n",
      "            median (ug/m3)  \n",
      "Date                        \n",
      "2017-01-24           192.8  \n",
      "2017-01-25           188.8  \n",
      "2017-01-26           136.8  \n",
      "2017-01-27            48.0  \n",
      "2017-01-28           101.9  \n"
     ]
    },
    {
     "data": {
      "text/html": [
       "<div>\n",
       "<style scoped>\n",
       "    .dataframe tbody tr th:only-of-type {\n",
       "        vertical-align: middle;\n",
       "    }\n",
       "\n",
       "    .dataframe tbody tr th {\n",
       "        vertical-align: top;\n",
       "    }\n",
       "\n",
       "    .dataframe thead th {\n",
       "        text-align: right;\n",
       "    }\n",
       "</style>\n",
       "<table border=\"1\" class=\"dataframe\">\n",
       "  <thead>\n",
       "    <tr style=\"text-align: right;\">\n",
       "      <th></th>\n",
       "      <th>Country</th>\n",
       "      <th>City</th>\n",
       "      <th>Specie</th>\n",
       "      <th>count</th>\n",
       "      <th>min (ug/m3)</th>\n",
       "      <th>max (ug/m3)</th>\n",
       "      <th>median (ug/m3)</th>\n",
       "    </tr>\n",
       "    <tr>\n",
       "      <th>Date</th>\n",
       "      <th></th>\n",
       "      <th></th>\n",
       "      <th></th>\n",
       "      <th></th>\n",
       "      <th></th>\n",
       "      <th></th>\n",
       "      <th></th>\n",
       "    </tr>\n",
       "  </thead>\n",
       "  <tbody>\n",
       "    <tr>\n",
       "      <th>2020-04-23</th>\n",
       "      <td>IN</td>\n",
       "      <td>New Delhi</td>\n",
       "      <td>pm25</td>\n",
       "      <td>24</td>\n",
       "      <td>6.0</td>\n",
       "      <td>96.1</td>\n",
       "      <td>48.0</td>\n",
       "    </tr>\n",
       "    <tr>\n",
       "      <th>2020-04-24</th>\n",
       "      <td>IN</td>\n",
       "      <td>New Delhi</td>\n",
       "      <td>pm25</td>\n",
       "      <td>24</td>\n",
       "      <td>29.2</td>\n",
       "      <td>92.2</td>\n",
       "      <td>48.9</td>\n",
       "    </tr>\n",
       "    <tr>\n",
       "      <th>2020-04-25</th>\n",
       "      <td>IN</td>\n",
       "      <td>New Delhi</td>\n",
       "      <td>pm25</td>\n",
       "      <td>24</td>\n",
       "      <td>6.0</td>\n",
       "      <td>55.5</td>\n",
       "      <td>18.7</td>\n",
       "    </tr>\n",
       "    <tr>\n",
       "      <th>2020-04-26</th>\n",
       "      <td>IN</td>\n",
       "      <td>New Delhi</td>\n",
       "      <td>pm25</td>\n",
       "      <td>24</td>\n",
       "      <td>10.0</td>\n",
       "      <td>80.6</td>\n",
       "      <td>23.9</td>\n",
       "    </tr>\n",
       "    <tr>\n",
       "      <th>2020-04-27</th>\n",
       "      <td>IN</td>\n",
       "      <td>New Delhi</td>\n",
       "      <td>pm25</td>\n",
       "      <td>24</td>\n",
       "      <td>15.9</td>\n",
       "      <td>37.9</td>\n",
       "      <td>25.8</td>\n",
       "    </tr>\n",
       "    <tr>\n",
       "      <th>2020-04-28</th>\n",
       "      <td>IN</td>\n",
       "      <td>New Delhi</td>\n",
       "      <td>pm25</td>\n",
       "      <td>24</td>\n",
       "      <td>23.0</td>\n",
       "      <td>65.1</td>\n",
       "      <td>36.7</td>\n",
       "    </tr>\n",
       "    <tr>\n",
       "      <th>2020-04-29</th>\n",
       "      <td>IN</td>\n",
       "      <td>New Delhi</td>\n",
       "      <td>pm25</td>\n",
       "      <td>24</td>\n",
       "      <td>33.9</td>\n",
       "      <td>74.8</td>\n",
       "      <td>52.9</td>\n",
       "    </tr>\n",
       "    <tr>\n",
       "      <th>2020-04-30</th>\n",
       "      <td>IN</td>\n",
       "      <td>New Delhi</td>\n",
       "      <td>pm25</td>\n",
       "      <td>24</td>\n",
       "      <td>35.9</td>\n",
       "      <td>69.0</td>\n",
       "      <td>48.9</td>\n",
       "    </tr>\n",
       "    <tr>\n",
       "      <th>2020-05-01</th>\n",
       "      <td>IN</td>\n",
       "      <td>New Delhi</td>\n",
       "      <td>pm25</td>\n",
       "      <td>24</td>\n",
       "      <td>37.9</td>\n",
       "      <td>74.8</td>\n",
       "      <td>55.5</td>\n",
       "    </tr>\n",
       "    <tr>\n",
       "      <th>2020-05-02</th>\n",
       "      <td>IN</td>\n",
       "      <td>New Delhi</td>\n",
       "      <td>pm25</td>\n",
       "      <td>24</td>\n",
       "      <td>29.2</td>\n",
       "      <td>44.8</td>\n",
       "      <td>34.9</td>\n",
       "    </tr>\n",
       "  </tbody>\n",
       "</table>\n",
       "</div>"
      ],
      "text/plain": [
       "           Country       City Specie  count  min (ug/m3)  max (ug/m3)  \\\n",
       "Date                                                                    \n",
       "2020-04-23      IN  New Delhi   pm25     24          6.0         96.1   \n",
       "2020-04-24      IN  New Delhi   pm25     24         29.2         92.2   \n",
       "2020-04-25      IN  New Delhi   pm25     24          6.0         55.5   \n",
       "2020-04-26      IN  New Delhi   pm25     24         10.0         80.6   \n",
       "2020-04-27      IN  New Delhi   pm25     24         15.9         37.9   \n",
       "2020-04-28      IN  New Delhi   pm25     24         23.0         65.1   \n",
       "2020-04-29      IN  New Delhi   pm25     24         33.9         74.8   \n",
       "2020-04-30      IN  New Delhi   pm25     24         35.9         69.0   \n",
       "2020-05-01      IN  New Delhi   pm25     24         37.9         74.8   \n",
       "2020-05-02      IN  New Delhi   pm25     24         29.2         44.8   \n",
       "\n",
       "            median (ug/m3)  \n",
       "Date                        \n",
       "2020-04-23            48.0  \n",
       "2020-04-24            48.9  \n",
       "2020-04-25            18.7  \n",
       "2020-04-26            23.9  \n",
       "2020-04-27            25.8  \n",
       "2020-04-28            36.7  \n",
       "2020-04-29            52.9  \n",
       "2020-04-30            48.9  \n",
       "2020-05-01            55.5  \n",
       "2020-05-02            34.9  "
      ]
     },
     "execution_count": 3,
     "metadata": {},
     "output_type": "execute_result"
    }
   ],
   "source": [
    "#select date range to measure PM2.5 for full shutdown - include all years\n",
    "#messy right now - turn into a function!\n",
    "\n",
    "#use Wuhan as an example\n",
    "earliest_year = min(all_pm25_df.index.year)\n",
    "latest_year = max(all_pm25_df.index.year)\n",
    "shutdown_start_date = (3, 24)#\"1/23\"\n",
    "shutdown_end_date = (5, 3)#\"4/8\"\n",
    "mask = ((pd.Series(map(lambda x: x.month <= shutdown_start_date[0], all_pm25_df.index.date), index=all_pm25_df.index)) &\n",
    "                                            ((pd.Series(map(lambda x: x.day < shutdown_start_date[1], all_pm25_df.index.date), index=all_pm25_df.index))))\n",
    "#first get dates after the start date for all years\n",
    "shutdown_time_period_pm_df = all_pm25_df.loc[~mask, :]\n",
    "\n",
    "#remove the later months\n",
    "shutdown_time_period_pm_df = shutdown_time_period_pm_df.loc[shutdown_time_period_pm_df.index.month<=shutdown_end_date[0]]\n",
    "\n",
    "#now get dates before the end date\n",
    "mask2 = ((pd.Series(map(lambda x: x.month == shutdown_end_date[0], shutdown_time_period_pm_df.index.date), index=shutdown_time_period_pm_df.index)) &\n",
    "                                            ((pd.Series(map(lambda x: x.day >= shutdown_end_date[1], shutdown_time_period_pm_df.index.date), index=shutdown_time_period_pm_df.index))))\n",
    "\n",
    "shutdown_time_period_pm_df = shutdown_time_period_pm_df.loc[~mask2, :]\n",
    "\n",
    "shutdown_time_period_pm_df = shutdown_time_period_pm_df.loc[shutdown_time_period_pm_df[\"City\"] == \"New Delhi\"]\n",
    "print(shutdown_time_period_pm_df.head())\n",
    "shutdown_time_period_pm_df.tail(10)"
   ]
  },
  {
   "cell_type": "code",
   "execution_count": 4,
   "metadata": {},
   "outputs": [
    {
     "name": "stdout",
     "output_type": "stream",
     "text": [
      "The 'shutdownData' function is working correctly: True\n"
     ]
    }
   ],
   "source": [
    "#inputs for the function are the complete dataframe for one particulate (df), the city name (city), an integer tuple in the \n",
    "#form of (month, day) for the shutdown date (shutdown_date, for example (1, 23) for 1/23) - NOTE that this is the \n",
    "#date where the strictest lockdown regulations start for that city, and an integer tuple in the \n",
    "#form of (month, day) for the reopen date (reopen_date, for example (4, 8) for 4/8) - NOTE that this is the date when the city \n",
    "#begins to reopen from the strictest lockdown regulations\n",
    "#\n",
    "#returns a dataframe with the correct shutdown date ranges for all years in the data set\n",
    "def shutdownData(df, city, shutdown_date, reopen_date):\n",
    "\n",
    "    mask = ((pd.Series(map(lambda x: x.month <= shutdown_date[0], df.index.date), index=df.index)) &\n",
    "                                                ((pd.Series(map(lambda x: x.day < shutdown_date[1], df.index.date), index=df.index))))\n",
    "    #first get dates after the start date for all years\n",
    "    shutdown_time_period_df = df.loc[~mask, :]\n",
    "\n",
    "    #remove the later months\n",
    "    shutdown_time_period_df = shutdown_time_period_df.loc[shutdown_time_period_df.index.month<=reopen_date[0]]\n",
    "\n",
    "    #now get dates before the end date\n",
    "    mask2 = ((pd.Series(map(lambda x: x.month == reopen_date[0], shutdown_time_period_df.index.date), index=shutdown_time_period_df.index)) &\n",
    "                                                ((pd.Series(map(lambda x: x.day >= reopen_date[1], shutdown_time_period_df.index.date), index=shutdown_time_period_df.index))))\n",
    "\n",
    "    shutdown_time_period_df = shutdown_time_period_df.loc[~mask2, :]\n",
    "\n",
    "    shutdown_time_period_df = shutdown_time_period_df.loc[shutdown_time_period_df[\"City\"] == city]\n",
    "    \n",
    "    return shutdown_time_period_df\n",
    "\n",
    "test_df = shutdownData(all_pm25_df, \"New Delhi\", (3, 24), (5, 3))\n",
    "\n",
    "print(\"The 'shutdownData' function is working correctly:\", test_df.equals(shutdown_time_period_pm_df))"
   ]
  },
  {
   "cell_type": "code",
   "execution_count": 5,
   "metadata": {},
   "outputs": [
    {
     "data": {
      "text/html": [
       "<div>\n",
       "<style scoped>\n",
       "    .dataframe tbody tr th:only-of-type {\n",
       "        vertical-align: middle;\n",
       "    }\n",
       "\n",
       "    .dataframe tbody tr th {\n",
       "        vertical-align: top;\n",
       "    }\n",
       "\n",
       "    .dataframe thead th {\n",
       "        text-align: right;\n",
       "    }\n",
       "</style>\n",
       "<table border=\"1\" class=\"dataframe\">\n",
       "  <thead>\n",
       "    <tr style=\"text-align: right;\">\n",
       "      <th></th>\n",
       "      <th>Country</th>\n",
       "      <th>City</th>\n",
       "      <th>Specie</th>\n",
       "      <th>count</th>\n",
       "      <th>min (ppb)</th>\n",
       "      <th>max (ppb)</th>\n",
       "      <th>median (ppb)</th>\n",
       "    </tr>\n",
       "    <tr>\n",
       "      <th>Date</th>\n",
       "      <th></th>\n",
       "      <th></th>\n",
       "      <th></th>\n",
       "      <th></th>\n",
       "      <th></th>\n",
       "      <th></th>\n",
       "      <th></th>\n",
       "    </tr>\n",
       "  </thead>\n",
       "  <tbody>\n",
       "  </tbody>\n",
       "</table>\n",
       "</div>"
      ],
      "text/plain": [
       "Empty DataFrame\n",
       "Columns: [Country, City, Specie, count, min (ppb), max (ppb), median (ppb)]\n",
       "Index: []"
      ]
     },
     "execution_count": 5,
     "metadata": {},
     "output_type": "execute_result"
    }
   ],
   "source": [
    "#so to get the ozone information for Wuhan between the shutdown date of 1/23 and the reopening date of 4/8, we \n",
    "#need to call the function as follows:\n",
    "newdelhi_o3_shutdown_df = shutdownData(all_o3_df, \"New Delhi\", (3, 24), (5, 3))\n",
    "newdelhi_o3_shutdown_df"
   ]
  },
  {
   "cell_type": "code",
   "execution_count": 6,
   "metadata": {},
   "outputs": [
    {
     "data": {
      "text/html": [
       "<div>\n",
       "<style scoped>\n",
       "    .dataframe tbody tr th:only-of-type {\n",
       "        vertical-align: middle;\n",
       "    }\n",
       "\n",
       "    .dataframe tbody tr th {\n",
       "        vertical-align: top;\n",
       "    }\n",
       "\n",
       "    .dataframe thead th {\n",
       "        text-align: right;\n",
       "    }\n",
       "</style>\n",
       "<table border=\"1\" class=\"dataframe\">\n",
       "  <thead>\n",
       "    <tr style=\"text-align: right;\">\n",
       "      <th></th>\n",
       "      <th>count</th>\n",
       "      <th>min (ug/m3)</th>\n",
       "      <th>max (ug/m3)</th>\n",
       "      <th>median (ug/m3)</th>\n",
       "    </tr>\n",
       "    <tr>\n",
       "      <th>Date</th>\n",
       "      <th></th>\n",
       "      <th></th>\n",
       "      <th></th>\n",
       "      <th></th>\n",
       "    </tr>\n",
       "  </thead>\n",
       "  <tbody>\n",
       "    <tr>\n",
       "      <th>2017</th>\n",
       "      <td>21.865385</td>\n",
       "      <td>34.759615</td>\n",
       "      <td>180.434615</td>\n",
       "      <td>78.136538</td>\n",
       "    </tr>\n",
       "    <tr>\n",
       "      <th>2018</th>\n",
       "      <td>23.905660</td>\n",
       "      <td>39.641509</td>\n",
       "      <td>183.998011</td>\n",
       "      <td>82.400000</td>\n",
       "    </tr>\n",
       "    <tr>\n",
       "      <th>2019</th>\n",
       "      <td>23.851064</td>\n",
       "      <td>36.342553</td>\n",
       "      <td>182.879587</td>\n",
       "      <td>78.680851</td>\n",
       "    </tr>\n",
       "    <tr>\n",
       "      <th>2020</th>\n",
       "      <td>23.981481</td>\n",
       "      <td>24.953704</td>\n",
       "      <td>116.192593</td>\n",
       "      <td>52.925926</td>\n",
       "    </tr>\n",
       "  </tbody>\n",
       "</table>\n",
       "</div>"
      ],
      "text/plain": [
       "          count  min (ug/m3)  max (ug/m3)  median (ug/m3)\n",
       "Date                                                     \n",
       "2017  21.865385    34.759615   180.434615       78.136538\n",
       "2018  23.905660    39.641509   183.998011       82.400000\n",
       "2019  23.851064    36.342553   182.879587       78.680851\n",
       "2020  23.981481    24.953704   116.192593       52.925926"
      ]
     },
     "execution_count": 6,
     "metadata": {},
     "output_type": "execute_result"
    }
   ],
   "source": [
    "#get average of medians by year\n",
    "bar_plot_info = shutdown_time_period_pm_df.groupby(shutdown_time_period_pm_df.index.year).mean()\n",
    "bar_plot_info"
   ]
  },
  {
   "cell_type": "code",
   "execution_count": 7,
   "metadata": {},
   "outputs": [
    {
     "data": {
      "text/plain": [
       "<matplotlib.axes._subplots.AxesSubplot at 0x11824a1d0>"
      ]
     },
     "execution_count": 7,
     "metadata": {},
     "output_type": "execute_result"
    },
    {
     "data": {
      "image/png": "[encoded data removed]",
      "text/plain": [
       "<Figure size 432x288 with 1 Axes>"
      ]
     },
     "metadata": {
      "needs_background": "light"
     },
     "output_type": "display_data"
    }
   ],
   "source": [
    "#plot of average medians\n",
    "bar_plot_info.plot(kind=\"bar\", y=\"median (ug/m3)\")"
   ]
  },
  {
   "cell_type": "code",
   "execution_count": 8,
   "metadata": {},
   "outputs": [
    {
     "data": {
      "text/plain": [
       "<matplotlib.axes._subplots.AxesSubplot at 0x119370890>"
      ]
     },
     "execution_count": 8,
     "metadata": {},
     "output_type": "execute_result"
    },
    {
     "data": {
      "image/png": "[encoded data removed]",
      "text/plain": [
       "<Figure size 432x288 with 1 Axes>"
      ]
     },
     "metadata": {
      "needs_background": "light"
     },
     "output_type": "display_data"
    }
   ],
   "source": [
    "#plot of average maximums\n",
    "bar_plot_info.plot(kind=\"bar\", y=\"max (ug/m3)\")"
   ]
  },
  {
   "cell_type": "code",
   "execution_count": 9,
   "metadata": {},
   "outputs": [
    {
     "data": {
      "text/html": [
       "<div>\n",
       "<style scoped>\n",
       "    .dataframe tbody tr th:only-of-type {\n",
       "        vertical-align: middle;\n",
       "    }\n",
       "\n",
       "    .dataframe tbody tr th {\n",
       "        vertical-align: top;\n",
       "    }\n",
       "\n",
       "    .dataframe thead th {\n",
       "        text-align: right;\n",
       "    }\n",
       "</style>\n",
       "<table border=\"1\" class=\"dataframe\">\n",
       "  <thead>\n",
       "    <tr style=\"text-align: right;\">\n",
       "      <th></th>\n",
       "      <th>count</th>\n",
       "      <th>min (ug/m3)</th>\n",
       "      <th>max (ug/m3)</th>\n",
       "      <th>median (ug/m3)</th>\n",
       "    </tr>\n",
       "    <tr>\n",
       "      <th>Date</th>\n",
       "      <th></th>\n",
       "      <th></th>\n",
       "      <th></th>\n",
       "      <th></th>\n",
       "    </tr>\n",
       "  </thead>\n",
       "  <tbody>\n",
       "    <tr>\n",
       "      <th>2017</th>\n",
       "      <td>NaN</td>\n",
       "      <td>NaN</td>\n",
       "      <td>NaN</td>\n",
       "      <td>NaN</td>\n",
       "    </tr>\n",
       "    <tr>\n",
       "      <th>2018</th>\n",
       "      <td>0.093311</td>\n",
       "      <td>0.140447</td>\n",
       "      <td>0.019749</td>\n",
       "      <td>0.054564</td>\n",
       "    </tr>\n",
       "    <tr>\n",
       "      <th>2019</th>\n",
       "      <td>-0.002284</td>\n",
       "      <td>-0.083220</td>\n",
       "      <td>-0.006078</td>\n",
       "      <td>-0.045135</td>\n",
       "    </tr>\n",
       "    <tr>\n",
       "      <th>2020</th>\n",
       "      <td>0.005468</td>\n",
       "      <td>-0.313375</td>\n",
       "      <td>-0.364650</td>\n",
       "      <td>-0.327334</td>\n",
       "    </tr>\n",
       "  </tbody>\n",
       "</table>\n",
       "</div>"
      ],
      "text/plain": [
       "         count  min (ug/m3)  max (ug/m3)  median (ug/m3)\n",
       "Date                                                    \n",
       "2017       NaN          NaN          NaN             NaN\n",
       "2018  0.093311     0.140447     0.019749        0.054564\n",
       "2019 -0.002284    -0.083220    -0.006078       -0.045135\n",
       "2020  0.005468    -0.313375    -0.364650       -0.327334"
      ]
     },
     "execution_count": 9,
     "metadata": {},
     "output_type": "execute_result"
    }
   ],
   "source": [
    "#get percentage decrease year over year\n",
    "bar_plot_info.pct_change()"
   ]
  },
  {
   "cell_type": "code",
   "execution_count": 10,
   "metadata": {},
   "outputs": [
    {
     "data": {
      "text/plain": [
       "count              23.207370\n",
       "min (ug/m3)        36.914559\n",
       "max (ug/m3)       182.437405\n",
       "median (ug/m3)     79.739130\n",
       "dtype: float64"
      ]
     },
     "execution_count": 10,
     "metadata": {},
     "output_type": "execute_result"
    }
   ],
   "source": [
    "#combine three previous years into an average median value\n",
    "prior_years_df = bar_plot_info.loc[bar_plot_info.index<2020]\n",
    "prior_averages = prior_years_df.mean()\n",
    "prior_averages"
   ]
  },
  {
   "cell_type": "code",
   "execution_count": 11,
   "metadata": {},
   "outputs": [
    {
     "data": {
      "text/html": [
       "<div>\n",
       "<style scoped>\n",
       "    .dataframe tbody tr th:only-of-type {\n",
       "        vertical-align: middle;\n",
       "    }\n",
       "\n",
       "    .dataframe tbody tr th {\n",
       "        vertical-align: top;\n",
       "    }\n",
       "\n",
       "    .dataframe thead th {\n",
       "        text-align: right;\n",
       "    }\n",
       "</style>\n",
       "<table border=\"1\" class=\"dataframe\">\n",
       "  <thead>\n",
       "    <tr style=\"text-align: right;\">\n",
       "      <th></th>\n",
       "      <th>average median during shutdown dates (ug/m3)</th>\n",
       "    </tr>\n",
       "  </thead>\n",
       "  <tbody>\n",
       "    <tr>\n",
       "      <th>Prior Years</th>\n",
       "      <td>NaN</td>\n",
       "    </tr>\n",
       "    <tr>\n",
       "      <th>2020</th>\n",
       "      <td>-0.336262</td>\n",
       "    </tr>\n",
       "  </tbody>\n",
       "</table>\n",
       "</div>"
      ],
      "text/plain": [
       "             average median during shutdown dates (ug/m3)\n",
       "Prior Years                                           NaN\n",
       "2020                                            -0.336262"
      ]
     },
     "execution_count": 11,
     "metadata": {},
     "output_type": "execute_result"
    },
    {
     "data": {
      "image/png": "[encoded data removed]",
      "text/plain": [
       "<Figure size 432x288 with 1 Axes>"
      ]
     },
     "metadata": {
      "needs_background": "light"
     },
     "output_type": "display_data"
    }
   ],
   "source": [
    "summary_bar_plot = pd.DataFrame({\"average median during shutdown dates (ug/m3)\":[prior_averages[\"median (ug/m3)\"], \n",
    "                                                                                 bar_plot_info[\"median (ug/m3)\"][2020]]}, \n",
    "                                index=[\"Prior Years\", \"2020\"])\n",
    "\n",
    "summary_bar_plot.plot(kind=\"bar\")\n",
    "summary_bar_plot.pct_change()"
   ]
  },
  {
   "cell_type": "code",
   "execution_count": null,
   "metadata": {},
   "outputs": [],
   "source": []
  },
  {
   "cell_type": "code",
   "execution_count": null,
   "metadata": {},
   "outputs": [],
   "source": []
  }
 ],
 "metadata": {
  "kernelspec": {
   "display_name": "Python 3",
   "language": "python",
   "name": "python3"
  },
  "language_info": {
   "codemirror_mode": {
    "name": "ipython",
    "version": 3
   },
   "file_extension": ".py",
   "mimetype": "text/x-python",
   "name": "python",
   "nbconvert_exporter": "python",
   "pygments_lexer": "ipython3",
   "version": "3.7.6"
  }
 },
 "nbformat": 4,
 "nbformat_minor": 4
}
