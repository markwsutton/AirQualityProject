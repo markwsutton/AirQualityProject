{
 "cells": [
  {
   "cell_type": "code",
   "execution_count": 11,
   "metadata": {},
   "outputs": [
    {
     "data": {
      "text/html": [
       "<div>\n",
       "<style scoped>\n",
       "    .dataframe tbody tr th:only-of-type {\n",
       "        vertical-align: middle;\n",
       "    }\n",
       "\n",
       "    .dataframe tbody tr th {\n",
       "        vertical-align: top;\n",
       "    }\n",
       "\n",
       "    .dataframe thead th {\n",
       "        text-align: right;\n",
       "    }\n",
       "</style>\n",
       "<table border=\"1\" class=\"dataframe\">\n",
       "  <thead>\n",
       "    <tr style=\"text-align: right;\">\n",
       "      <th></th>\n",
       "      <th>City</th>\n",
       "      <th>PM2.5 (% change)</th>\n",
       "      <th>O3 (% change)</th>\n",
       "    </tr>\n",
       "  </thead>\n",
       "  <tbody>\n",
       "    <tr>\n",
       "      <th>0</th>\n",
       "      <td>Wuhan</td>\n",
       "      <td>-39.0096</td>\n",
       "      <td>46.8958</td>\n",
       "    </tr>\n",
       "    <tr>\n",
       "      <th>1</th>\n",
       "      <td>New Delhi</td>\n",
       "      <td>-33.6262</td>\n",
       "      <td>NaN</td>\n",
       "    </tr>\n",
       "    <tr>\n",
       "      <th>2</th>\n",
       "      <td>Shanghai</td>\n",
       "      <td>-24.5329</td>\n",
       "      <td>0.9765</td>\n",
       "    </tr>\n",
       "    <tr>\n",
       "      <th>3</th>\n",
       "      <td>Manhattan</td>\n",
       "      <td>-22.0286</td>\n",
       "      <td>-0.6978</td>\n",
       "    </tr>\n",
       "    <tr>\n",
       "      <th>4</th>\n",
       "      <td>Beijing</td>\n",
       "      <td>-16.2871</td>\n",
       "      <td>10.2483</td>\n",
       "    </tr>\n",
       "    <tr>\n",
       "      <th>5</th>\n",
       "      <td>Los Angeles</td>\n",
       "      <td>-7.8955</td>\n",
       "      <td>-10.9295</td>\n",
       "    </tr>\n",
       "    <tr>\n",
       "      <th>6</th>\n",
       "      <td>Houston</td>\n",
       "      <td>1.1844</td>\n",
       "      <td>-16.7200</td>\n",
       "    </tr>\n",
       "    <tr>\n",
       "      <th>7</th>\n",
       "      <td>Jacksonville</td>\n",
       "      <td>15.8448</td>\n",
       "      <td>-3.2526</td>\n",
       "    </tr>\n",
       "  </tbody>\n",
       "</table>\n",
       "</div>"
      ],
      "text/plain": [
       "           City  PM2.5 (% change)  O3 (% change)\n",
       "0         Wuhan          -39.0096        46.8958\n",
       "1     New Delhi          -33.6262            NaN\n",
       "2      Shanghai          -24.5329         0.9765\n",
       "3     Manhattan          -22.0286        -0.6978\n",
       "4       Beijing          -16.2871        10.2483\n",
       "5   Los Angeles           -7.8955       -10.9295\n",
       "6       Houston            1.1844       -16.7200\n",
       "7  Jacksonville           15.8448        -3.2526"
      ]
     },
     "execution_count": 11,
     "metadata": {},
     "output_type": "execute_result"
    }
   ],
   "source": [
    "import pandas as pd\n",
    "import numpy as np\n",
    "import scipy.stats as stats\n",
    "import matplotlib.pyplot as plt\n",
    "\n",
    "\n",
    "summary_info_df = pd.read_csv(\"./Resources/summary_stats.csv\")\n",
    "\n",
    "regression_df = summary_info_df.dropna()\n",
    "workable_df = summary_info_df\n",
    "workable_df"
   ]
  },
  {
   "cell_type": "code",
   "execution_count": 12,
   "metadata": {},
   "outputs": [
    {
     "data": {
      "text/plain": [
       "<matplotlib.legend.Legend at 0x23650c84748>"
      ]
     },
     "execution_count": 12,
     "metadata": {},
     "output_type": "execute_result"
    },
    {
     "data": {
      "image/png": "[encoded data removed]",
      "text/plain": [
       "<Figure size 432x288 with 1 Axes>"
      ]
     },
     "metadata": {
      "needs_background": "light"
     },
     "output_type": "display_data"
    }
   ],
   "source": [
    "regr_plot, regr_axes = plt.subplots()\n",
    "\n",
    "scatter_axes = regression_df.plot(kind=\"scatter\", x=\"PM2.5 (% change)\", y=\"O3 (% change)\", ax=regr_axes)\n",
    "scatter_axes.legend([\"City Datapoints\"])"
   ]
  },
  {
   "cell_type": "code",
   "execution_count": 13,
   "metadata": {},
   "outputs": [
    {
     "data": {
      "image/png": "[encoded data removed]",
      "text/plain": [
       "<Figure size 432x288 with 1 Axes>"
      ]
     },
     "execution_count": 13,
     "metadata": {},
     "output_type": "execute_result"
    }
   ],
   "source": [
    "x_values = np.array([a for a in range(-50, 15)])\n",
    "(slope, intercept, r, _, _) = stats.linregress(regression_df[\"PM2.5 (% change)\"], regression_df[\"O3 (% change)\"])\n",
    "y_values = slope*x_values+intercept\n",
    "\n",
    "#put into dataframe\n",
    "linear_regression_df = pd.DataFrame({\"x\":x_values, \"y\":y_values})\n",
    "\n",
    "#plot line on same graph\n",
    "lin_reg_line = linear_regression_df.plot(x=\"x\", y=\"y\", style=\"r\", ax=regr_axes)\n",
    "regr_axes.set_xlabel(\"PM2.5 (% change)\")\n",
    "regr_axes.legend([\"regression line\", \"City Datapoints\"])\n",
    "regr_axes.set_title(\"O3 (% change) vs. PM2.5 (% change)\")\n",
    "# scatter_plot.plot(x_values, y_values)\n",
    "regr_plot"
   ]
  },
  {
   "cell_type": "code",
   "execution_count": 28,
   "metadata": {},
   "outputs": [
    {
     "name": "stdout",
     "output_type": "stream",
     "text": [
      "The r-squared value for this plot is: -0.72\n",
      "-0.8357462739807888\n",
      "Note that we have 8 data points. Two data points are necessary to make a line, which always has a r-value of 1, so having 8 data points might show an artificially high r-value or trend that changes or disappears with more data\n"
     ]
    }
   ],
   "source": [
    "print(\"The r-squared value for this plot is: {:.2f}\".format(r))\n",
    "num_data_points = len(workable_df)\n",
    "print(slope)\n",
    "print(f\"Note that we have {num_data_points} data points. Two data points are necessary to make a line, which always has a r-value of\" +\n",
    "      f\" 1, so having {num_data_points} data points might show an artificially high r-value or trend that changes or disappears with more data\")"
   ]
  },
  {
   "cell_type": "code",
   "execution_count": 15,
   "metadata": {},
   "outputs": [
    {
     "data": {
      "text/plain": [
       "<matplotlib.axes._subplots.AxesSubplot at 0x23650b5c908>"
      ]
     },
     "execution_count": 15,
     "metadata": {},
     "output_type": "execute_result"
    },
    {
     "data": {
      "image/png": "[encoded data removed]",
      "text/plain": [
       "<Figure size 432x288 with 1 Axes>"
      ]
     },
     "metadata": {
      "needs_background": "light"
     },
     "output_type": "display_data"
    }
   ],
   "source": [
    "#create boxplot to look for outliers in the data used for the linear regression to find a correlation between PM2.5 \n",
    "#pollution change and O3 pollution change\n",
    "regression_df.boxplot(column=list(workable_df.columns[1:3]))\n",
    "\n",
    "#boxplot shows that the Ozone percent change for Wuhan is an outlier - see how it looks with more data, maybe drop/ignore?"
   ]
  },
  {
   "cell_type": "code",
   "execution_count": 20,
   "metadata": {},
   "outputs": [
    {
     "data": {
      "text/html": [
       "<div>\n",
       "<style scoped>\n",
       "    .dataframe tbody tr th:only-of-type {\n",
       "        vertical-align: middle;\n",
       "    }\n",
       "\n",
       "    .dataframe tbody tr th {\n",
       "        vertical-align: top;\n",
       "    }\n",
       "\n",
       "    .dataframe thead th {\n",
       "        text-align: right;\n",
       "    }\n",
       "</style>\n",
       "<table border=\"1\" class=\"dataframe\">\n",
       "  <thead>\n",
       "    <tr style=\"text-align: right;\">\n",
       "      <th></th>\n",
       "      <th>City</th>\n",
       "      <th>PM2.5 (% change)</th>\n",
       "      <th>O3 (% change)</th>\n",
       "      <th>Orig PM2.5</th>\n",
       "      <th>Final PM2.5</th>\n",
       "    </tr>\n",
       "  </thead>\n",
       "  <tbody>\n",
       "    <tr>\n",
       "      <th>0</th>\n",
       "      <td>Wuhan</td>\n",
       "      <td>-39.0096</td>\n",
       "      <td>46.8958</td>\n",
       "      <td>100</td>\n",
       "      <td>60.9904</td>\n",
       "    </tr>\n",
       "    <tr>\n",
       "      <th>1</th>\n",
       "      <td>New Delhi</td>\n",
       "      <td>-33.6262</td>\n",
       "      <td>NaN</td>\n",
       "      <td>100</td>\n",
       "      <td>66.3738</td>\n",
       "    </tr>\n",
       "    <tr>\n",
       "      <th>2</th>\n",
       "      <td>Shanghai</td>\n",
       "      <td>-24.5329</td>\n",
       "      <td>0.9765</td>\n",
       "      <td>100</td>\n",
       "      <td>75.4671</td>\n",
       "    </tr>\n",
       "    <tr>\n",
       "      <th>3</th>\n",
       "      <td>Manhattan</td>\n",
       "      <td>-22.0286</td>\n",
       "      <td>-0.6978</td>\n",
       "      <td>100</td>\n",
       "      <td>77.9714</td>\n",
       "    </tr>\n",
       "    <tr>\n",
       "      <th>4</th>\n",
       "      <td>Beijing</td>\n",
       "      <td>-16.2871</td>\n",
       "      <td>10.2483</td>\n",
       "      <td>100</td>\n",
       "      <td>83.7129</td>\n",
       "    </tr>\n",
       "    <tr>\n",
       "      <th>5</th>\n",
       "      <td>Los Angeles</td>\n",
       "      <td>-7.8955</td>\n",
       "      <td>-10.9295</td>\n",
       "      <td>100</td>\n",
       "      <td>92.1045</td>\n",
       "    </tr>\n",
       "    <tr>\n",
       "      <th>6</th>\n",
       "      <td>Houston</td>\n",
       "      <td>1.1844</td>\n",
       "      <td>-16.7200</td>\n",
       "      <td>100</td>\n",
       "      <td>101.1844</td>\n",
       "    </tr>\n",
       "    <tr>\n",
       "      <th>7</th>\n",
       "      <td>Jacksonville</td>\n",
       "      <td>15.8448</td>\n",
       "      <td>-3.2526</td>\n",
       "      <td>100</td>\n",
       "      <td>115.8448</td>\n",
       "    </tr>\n",
       "  </tbody>\n",
       "</table>\n",
       "</div>"
      ],
      "text/plain": [
       "           City  PM2.5 (% change)  O3 (% change)  Orig PM2.5  Final PM2.5\n",
       "0         Wuhan          -39.0096        46.8958         100      60.9904\n",
       "1     New Delhi          -33.6262            NaN         100      66.3738\n",
       "2      Shanghai          -24.5329         0.9765         100      75.4671\n",
       "3     Manhattan          -22.0286        -0.6978         100      77.9714\n",
       "4       Beijing          -16.2871        10.2483         100      83.7129\n",
       "5   Los Angeles           -7.8955       -10.9295         100      92.1045\n",
       "6       Houston            1.1844       -16.7200         100     101.1844\n",
       "7  Jacksonville           15.8448        -3.2526         100     115.8448"
      ]
     },
     "execution_count": 20,
     "metadata": {},
     "output_type": "execute_result"
    }
   ],
   "source": [
    "#create a stacked bar plot for the pm2.5 reduction depiction\n",
    "workable_df[\"Orig PM2.5\"] = 100\n",
    "workable_df[\"Final PM2.5\"] = workable_df[\"Orig PM2.5\"] + workable_df[\"Orig PM2.5\"]*(workable_df[\"PM2.5 (% change)\"]/100)\n",
    "workable_df"
   ]
  },
  {
   "cell_type": "code",
   "execution_count": 27,
   "metadata": {},
   "outputs": [
    {
     "data": {
      "text/plain": [
       "<matplotlib.axes._subplots.AxesSubplot at 0x23651238e48>"
      ]
     },
     "execution_count": 27,
     "metadata": {},
     "output_type": "execute_result"
    },
    {
     "data": {
      "image/png": "[encoded data removed]",
      "text/plain": [
       "<Figure size 432x288 with 1 Axes>"
      ]
     },
     "metadata": {
      "needs_background": "light"
     },
     "output_type": "display_data"
    }
   ],
   "source": [
    "bar_plot, bar_axes = plt.subplots()\n",
    "\n",
    "#plot original PM2.5 values as baseline bars\n",
    "workable_df.plot(kind=\"bar\", x=\"City\", y=\"Orig PM2.5\", ax=bar_axes)\n",
    "bar_axes.set_ylabel(\"Percentage\")\n",
    "bar_axes.set_title(\"% Change in PM2.5 Prior 3 Years vs. Shutdown 2020\")\n",
    "\n",
    "#plot PM2.5 values during shutdown as overlaid bars\n",
    "workable_df.plot(kind=\"bar\", x=\"City\", y=\"Final PM2.5\", color=\"r\", ax=bar_axes)\n"
   ]
  },
  {
   "cell_type": "code",
   "execution_count": null,
   "metadata": {},
   "outputs": [],
   "source": []
  },
  {
   "cell_type": "code",
   "execution_count": null,
   "metadata": {},
   "outputs": [],
   "source": []
  }
 ],
 "metadata": {
  "kernelspec": {
   "display_name": "Python 3",
   "language": "python",
   "name": "python3"
  },
  "language_info": {
   "codemirror_mode": {
    "name": "ipython",
    "version": 3
   },
   "file_extension": ".py",
   "mimetype": "text/x-python",
   "name": "python",
   "nbconvert_exporter": "python",
   "pygments_lexer": "ipython3",
   "version": "3.7.6"
  }
 },
 "nbformat": 4,
 "nbformat_minor": 4
}
