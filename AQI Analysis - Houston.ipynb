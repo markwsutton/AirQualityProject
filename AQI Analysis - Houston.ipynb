{
 "cells": [
  {
   "cell_type": "code",
   "execution_count": 82,
   "metadata": {},
   "outputs": [
    {
     "data": {
      "text/html": [
       "<div>\n",
       "<style scoped>\n",
       "    .dataframe tbody tr th:only-of-type {\n",
       "        vertical-align: middle;\n",
       "    }\n",
       "\n",
       "    .dataframe tbody tr th {\n",
       "        vertical-align: top;\n",
       "    }\n",
       "\n",
       "    .dataframe thead th {\n",
       "        text-align: right;\n",
       "    }\n",
       "</style>\n",
       "<table border=\"1\" class=\"dataframe\">\n",
       "  <thead>\n",
       "    <tr style=\"text-align: right;\">\n",
       "      <th></th>\n",
       "      <th>Country</th>\n",
       "      <th>City</th>\n",
       "      <th>Specie</th>\n",
       "      <th>count</th>\n",
       "      <th>min (ug/m3)</th>\n",
       "      <th>max (ug/m3)</th>\n",
       "      <th>median (ug/m3)</th>\n",
       "    </tr>\n",
       "    <tr>\n",
       "      <th>Date</th>\n",
       "      <th></th>\n",
       "      <th></th>\n",
       "      <th></th>\n",
       "      <th></th>\n",
       "      <th></th>\n",
       "      <th></th>\n",
       "      <th></th>\n",
       "    </tr>\n",
       "  </thead>\n",
       "  <tbody>\n",
       "    <tr>\n",
       "      <th>2017-01-01</th>\n",
       "      <td>IN</td>\n",
       "      <td>New Delhi</td>\n",
       "      <td>pm25</td>\n",
       "      <td>24</td>\n",
       "      <td>54.9</td>\n",
       "      <td>282.7</td>\n",
       "      <td>177.7</td>\n",
       "    </tr>\n",
       "    <tr>\n",
       "      <th>2017-01-01</th>\n",
       "      <td>CN</td>\n",
       "      <td>Shanghai</td>\n",
       "      <td>pm25</td>\n",
       "      <td>215</td>\n",
       "      <td>12.0</td>\n",
       "      <td>63.2</td>\n",
       "      <td>34.4</td>\n",
       "    </tr>\n",
       "    <tr>\n",
       "      <th>2017-01-01</th>\n",
       "      <td>US</td>\n",
       "      <td>Jacksonville</td>\n",
       "      <td>pm25</td>\n",
       "      <td>115</td>\n",
       "      <td>3.1</td>\n",
       "      <td>113.6</td>\n",
       "      <td>8.1</td>\n",
       "    </tr>\n",
       "    <tr>\n",
       "      <th>2017-01-01</th>\n",
       "      <td>US</td>\n",
       "      <td>Los Angeles</td>\n",
       "      <td>pm25</td>\n",
       "      <td>69</td>\n",
       "      <td>3.3</td>\n",
       "      <td>109.7</td>\n",
       "      <td>15.9</td>\n",
       "    </tr>\n",
       "    <tr>\n",
       "      <th>2017-01-01</th>\n",
       "      <td>US</td>\n",
       "      <td>Manhattan</td>\n",
       "      <td>pm25</td>\n",
       "      <td>96</td>\n",
       "      <td>4.3</td>\n",
       "      <td>23.0</td>\n",
       "      <td>12.1</td>\n",
       "    </tr>\n",
       "  </tbody>\n",
       "</table>\n",
       "</div>"
      ],
      "text/plain": [
       "           Country          City Specie  count  min (ug/m3)  max (ug/m3)  \\\n",
       "Date                                                                       \n",
       "2017-01-01      IN     New Delhi   pm25     24         54.9        282.7   \n",
       "2017-01-01      CN      Shanghai   pm25    215         12.0         63.2   \n",
       "2017-01-01      US  Jacksonville   pm25    115          3.1        113.6   \n",
       "2017-01-01      US   Los Angeles   pm25     69          3.3        109.7   \n",
       "2017-01-01      US     Manhattan   pm25     96          4.3         23.0   \n",
       "\n",
       "            median (ug/m3)  \n",
       "Date                        \n",
       "2017-01-01           177.7  \n",
       "2017-01-01            34.4  \n",
       "2017-01-01             8.1  \n",
       "2017-01-01            15.9  \n",
       "2017-01-01            12.1  "
      ]
     },
     "execution_count": 82,
     "metadata": {},
     "output_type": "execute_result"
    }
   ],
   "source": [
    "import pandas as pd\n",
    "import datetime\n",
    "import matplotlib.pyplot as plt\n",
    "\n",
    "all_o3_df = pd.read_csv(\"./Resources/all_years_o3.csv\")\n",
    "#turn date column elements into datetime objects\n",
    "all_o3_df[\"Date\"] = pd.to_datetime(all_o3_df[\"Date\"])\n",
    "all_o3_df = all_o3_df.set_index(\"Date\")\n",
    "\n",
    "all_pm25_df = pd.read_csv(\"./Resources/all_years_pm25.csv\")\n",
    "#turn date column elements into datetime objects\n",
    "all_pm25_df[\"Date\"] = pd.to_datetime(all_pm25_df[\"Date\"])\n",
    "all_pm25_df = all_pm25_df.set_index(\"Date\")\n",
    "all_pm25_df.head()"
   ]
  },
  {
   "cell_type": "code",
   "execution_count": 83,
   "metadata": {},
   "outputs": [
    {
     "name": "stdout",
     "output_type": "stream",
     "text": [
      "           Country     City Specie  count  min (ug/m3)  max (ug/m3)  \\\n",
      "Date                                                                  \n",
      "2017-01-19      US  Houston   pm25     82          0.2         12.1   \n",
      "2017-01-20      US  Houston   pm25     90          1.2         23.5   \n",
      "2017-01-21      US  Houston   pm25     95          0.9         23.9   \n",
      "2017-01-22      US  Houston   pm25     80          0.2          6.7   \n",
      "2017-01-23      US  Houston   pm25     77          0.4         30.6   \n",
      "\n",
      "            median (ug/m3)  \n",
      "Date                        \n",
      "2017-01-19             3.3  \n",
      "2017-01-20             9.6  \n",
      "2017-01-21            11.0  \n",
      "2017-01-22             3.6  \n",
      "2017-01-23             3.6  \n"
     ]
    },
    {
     "data": {
      "text/html": [
       "<div>\n",
       "<style scoped>\n",
       "    .dataframe tbody tr th:only-of-type {\n",
       "        vertical-align: middle;\n",
       "    }\n",
       "\n",
       "    .dataframe tbody tr th {\n",
       "        vertical-align: top;\n",
       "    }\n",
       "\n",
       "    .dataframe thead th {\n",
       "        text-align: right;\n",
       "    }\n",
       "</style>\n",
       "<table border=\"1\" class=\"dataframe\">\n",
       "  <thead>\n",
       "    <tr style=\"text-align: right;\">\n",
       "      <th></th>\n",
       "      <th>Country</th>\n",
       "      <th>City</th>\n",
       "      <th>Specie</th>\n",
       "      <th>count</th>\n",
       "      <th>min (ug/m3)</th>\n",
       "      <th>max (ug/m3)</th>\n",
       "      <th>median (ug/m3)</th>\n",
       "    </tr>\n",
       "    <tr>\n",
       "      <th>Date</th>\n",
       "      <th></th>\n",
       "      <th></th>\n",
       "      <th></th>\n",
       "      <th></th>\n",
       "      <th></th>\n",
       "      <th></th>\n",
       "      <th></th>\n",
       "    </tr>\n",
       "  </thead>\n",
       "  <tbody>\n",
       "    <tr>\n",
       "      <th>2020-04-06</th>\n",
       "      <td>US</td>\n",
       "      <td>Houston</td>\n",
       "      <td>pm25</td>\n",
       "      <td>116</td>\n",
       "      <td>5.2</td>\n",
       "      <td>22.0</td>\n",
       "      <td>10.3</td>\n",
       "    </tr>\n",
       "    <tr>\n",
       "      <th>2020-04-07</th>\n",
       "      <td>US</td>\n",
       "      <td>Houston</td>\n",
       "      <td>pm25</td>\n",
       "      <td>120</td>\n",
       "      <td>4.8</td>\n",
       "      <td>22.0</td>\n",
       "      <td>12.5</td>\n",
       "    </tr>\n",
       "    <tr>\n",
       "      <th>2020-04-08</th>\n",
       "      <td>US</td>\n",
       "      <td>Houston</td>\n",
       "      <td>pm25</td>\n",
       "      <td>114</td>\n",
       "      <td>8.3</td>\n",
       "      <td>37.5</td>\n",
       "      <td>18.2</td>\n",
       "    </tr>\n",
       "    <tr>\n",
       "      <th>2020-04-09</th>\n",
       "      <td>US</td>\n",
       "      <td>Houston</td>\n",
       "      <td>pm25</td>\n",
       "      <td>114</td>\n",
       "      <td>0.4</td>\n",
       "      <td>33.9</td>\n",
       "      <td>14.4</td>\n",
       "    </tr>\n",
       "    <tr>\n",
       "      <th>2020-04-10</th>\n",
       "      <td>US</td>\n",
       "      <td>Houston</td>\n",
       "      <td>pm25</td>\n",
       "      <td>120</td>\n",
       "      <td>1.9</td>\n",
       "      <td>14.4</td>\n",
       "      <td>7.2</td>\n",
       "    </tr>\n",
       "    <tr>\n",
       "      <th>2020-04-11</th>\n",
       "      <td>US</td>\n",
       "      <td>Houston</td>\n",
       "      <td>pm25</td>\n",
       "      <td>120</td>\n",
       "      <td>3.1</td>\n",
       "      <td>13.0</td>\n",
       "      <td>7.9</td>\n",
       "    </tr>\n",
       "    <tr>\n",
       "      <th>2020-04-12</th>\n",
       "      <td>US</td>\n",
       "      <td>Houston</td>\n",
       "      <td>pm25</td>\n",
       "      <td>120</td>\n",
       "      <td>1.2</td>\n",
       "      <td>35.9</td>\n",
       "      <td>13.0</td>\n",
       "    </tr>\n",
       "    <tr>\n",
       "      <th>2020-04-13</th>\n",
       "      <td>US</td>\n",
       "      <td>Houston</td>\n",
       "      <td>pm25</td>\n",
       "      <td>90</td>\n",
       "      <td>1.6</td>\n",
       "      <td>12.0</td>\n",
       "      <td>5.0</td>\n",
       "    </tr>\n",
       "    <tr>\n",
       "      <th>2020-04-14</th>\n",
       "      <td>US</td>\n",
       "      <td>Houston</td>\n",
       "      <td>pm25</td>\n",
       "      <td>72</td>\n",
       "      <td>2.1</td>\n",
       "      <td>14.0</td>\n",
       "      <td>5.0</td>\n",
       "    </tr>\n",
       "    <tr>\n",
       "      <th>2020-04-15</th>\n",
       "      <td>US</td>\n",
       "      <td>Houston</td>\n",
       "      <td>pm25</td>\n",
       "      <td>72</td>\n",
       "      <td>2.1</td>\n",
       "      <td>34.9</td>\n",
       "      <td>6.0</td>\n",
       "    </tr>\n",
       "  </tbody>\n",
       "</table>\n",
       "</div>"
      ],
      "text/plain": [
       "           Country     City Specie  count  min (ug/m3)  max (ug/m3)  \\\n",
       "Date                                                                  \n",
       "2020-04-06      US  Houston   pm25    116          5.2         22.0   \n",
       "2020-04-07      US  Houston   pm25    120          4.8         22.0   \n",
       "2020-04-08      US  Houston   pm25    114          8.3         37.5   \n",
       "2020-04-09      US  Houston   pm25    114          0.4         33.9   \n",
       "2020-04-10      US  Houston   pm25    120          1.9         14.4   \n",
       "2020-04-11      US  Houston   pm25    120          3.1         13.0   \n",
       "2020-04-12      US  Houston   pm25    120          1.2         35.9   \n",
       "2020-04-13      US  Houston   pm25     90          1.6         12.0   \n",
       "2020-04-14      US  Houston   pm25     72          2.1         14.0   \n",
       "2020-04-15      US  Houston   pm25     72          2.1         34.9   \n",
       "\n",
       "            median (ug/m3)  \n",
       "Date                        \n",
       "2020-04-06            10.3  \n",
       "2020-04-07            12.5  \n",
       "2020-04-08            18.2  \n",
       "2020-04-09            14.4  \n",
       "2020-04-10             7.2  \n",
       "2020-04-11             7.9  \n",
       "2020-04-12            13.0  \n",
       "2020-04-13             5.0  \n",
       "2020-04-14             5.0  \n",
       "2020-04-15             6.0  "
      ]
     },
     "execution_count": 83,
     "metadata": {},
     "output_type": "execute_result"
    }
   ],
   "source": [
    "#select date range to measure PM2.5 for full shutdown - include all years\n",
    "#messy right now - turn into a function!\n",
    "\n",
    "#use Wuhan as an example\n",
    "earliest_year = min(all_pm25_df.index.year)\n",
    "latest_year = max(all_pm25_df.index.year)\n",
    "shutdown_start_date = (3, 19)#\"1/23\"\n",
    "shutdown_end_date = (4, 16)#\"4/8\"\n",
    "mask = ((pd.Series(map(lambda x: x.month <= shutdown_start_date[0], all_pm25_df.index.date), index=all_pm25_df.index)) &\n",
    "                                            ((pd.Series(map(lambda x: x.day < shutdown_start_date[1], all_pm25_df.index.date), index=all_pm25_df.index))))\n",
    "#first get dates after the start date for all years\n",
    "shutdown_time_period_pm_df = all_pm25_df.loc[~mask, :]\n",
    "\n",
    "#remove the later months\n",
    "shutdown_time_period_pm_df = shutdown_time_period_pm_df.loc[shutdown_time_period_pm_df.index.month<=shutdown_end_date[0]]\n",
    "\n",
    "#now get dates before the end date\n",
    "mask2 = ((pd.Series(map(lambda x: x.month == shutdown_end_date[0], shutdown_time_period_pm_df.index.date), index=shutdown_time_period_pm_df.index)) &\n",
    "                                            ((pd.Series(map(lambda x: x.day >= shutdown_end_date[1], shutdown_time_period_pm_df.index.date), index=shutdown_time_period_pm_df.index))))\n",
    "\n",
    "shutdown_time_period_pm_df = shutdown_time_period_pm_df.loc[~mask2, :]\n",
    "\n",
    "shutdown_time_period_pm_df = shutdown_time_period_pm_df.loc[shutdown_time_period_pm_df[\"City\"] == \"Houston\"]\n",
    "print(shutdown_time_period_pm_df.head())\n",
    "shutdown_time_period_pm_df.tail(10)"
   ]
  },
  {
   "cell_type": "code",
   "execution_count": 84,
   "metadata": {},
   "outputs": [
    {
     "name": "stdout",
     "output_type": "stream",
     "text": [
      "The 'shutdownData' function is working correctly: True\n"
     ]
    }
   ],
   "source": [
    "#inputs for the function are the complete dataframe for one particulate (df), the city name (city), an integer tuple in the \n",
    "#form of (month, day) for the shutdown date (shutdown_date, for example (1, 23) for 1/23) - NOTE that this is the \n",
    "#date where the strictest lockdown regulations start for that city, and an integer tuple in the \n",
    "#form of (month, day) for the reopen date (reopen_date, for example (4, 8) for 4/8) - NOTE that this is the date when the city \n",
    "#begins to reopen from the strictest lockdown regulations\n",
    "#\n",
    "#returns a dataframe with the correct shutdown date ranges for all years in the data set\n",
    "def shutdownData(df, city, shutdown_date, reopen_date):\n",
    "\n",
    "    mask = ((pd.Series(map(lambda x: x.month <= shutdown_date[0], df.index.date), index=df.index)) &\n",
    "                                                ((pd.Series(map(lambda x: x.day < shutdown_date[1], df.index.date), index=df.index))))\n",
    "    #first get dates after the start date for all years\n",
    "    shutdown_time_period_df = df.loc[~mask, :]\n",
    "\n",
    "    #remove the later months\n",
    "    shutdown_time_period_df = shutdown_time_period_df.loc[shutdown_time_period_df.index.month<=reopen_date[0]]\n",
    "\n",
    "    #now get dates before the end date\n",
    "    mask2 = ((pd.Series(map(lambda x: x.month == reopen_date[0], shutdown_time_period_df.index.date), index=shutdown_time_period_df.index)) &\n",
    "                                                ((pd.Series(map(lambda x: x.day >= reopen_date[1], shutdown_time_period_df.index.date), index=shutdown_time_period_df.index))))\n",
    "\n",
    "    shutdown_time_period_df = shutdown_time_period_df.loc[~mask2, :]\n",
    "\n",
    "    shutdown_time_period_df = shutdown_time_period_df.loc[shutdown_time_period_df[\"City\"] == city]\n",
    "    \n",
    "    return shutdown_time_period_df\n",
    "\n",
    "test_df = shutdownData(all_pm25_df, \"Houston\", (3, 19), (4, 16))\n",
    "\n",
    "print(\"The 'shutdownData' function is working correctly:\", test_df.equals(shutdown_time_period_pm_df))"
   ]
  },
  {
   "cell_type": "code",
   "execution_count": 85,
   "metadata": {},
   "outputs": [
    {
     "data": {
      "text/html": [
       "<div>\n",
       "<style scoped>\n",
       "    .dataframe tbody tr th:only-of-type {\n",
       "        vertical-align: middle;\n",
       "    }\n",
       "\n",
       "    .dataframe tbody tr th {\n",
       "        vertical-align: top;\n",
       "    }\n",
       "\n",
       "    .dataframe thead th {\n",
       "        text-align: right;\n",
       "    }\n",
       "</style>\n",
       "<table border=\"1\" class=\"dataframe\">\n",
       "  <thead>\n",
       "    <tr style=\"text-align: right;\">\n",
       "      <th></th>\n",
       "      <th>Country</th>\n",
       "      <th>City</th>\n",
       "      <th>Specie</th>\n",
       "      <th>count</th>\n",
       "      <th>min (ppb)</th>\n",
       "      <th>max (ppb)</th>\n",
       "      <th>median (ppb)</th>\n",
       "    </tr>\n",
       "    <tr>\n",
       "      <th>Date</th>\n",
       "      <th></th>\n",
       "      <th></th>\n",
       "      <th></th>\n",
       "      <th></th>\n",
       "      <th></th>\n",
       "      <th></th>\n",
       "      <th></th>\n",
       "    </tr>\n",
       "  </thead>\n",
       "  <tbody>\n",
       "    <tr>\n",
       "      <th>2017-01-19</th>\n",
       "      <td>US</td>\n",
       "      <td>Houston</td>\n",
       "      <td>o3</td>\n",
       "      <td>89</td>\n",
       "      <td>1.0</td>\n",
       "      <td>19.0</td>\n",
       "      <td>7.0</td>\n",
       "    </tr>\n",
       "    <tr>\n",
       "      <th>2017-01-20</th>\n",
       "      <td>US</td>\n",
       "      <td>Houston</td>\n",
       "      <td>o3</td>\n",
       "      <td>114</td>\n",
       "      <td>1.0</td>\n",
       "      <td>36.0</td>\n",
       "      <td>17.0</td>\n",
       "    </tr>\n",
       "    <tr>\n",
       "      <th>2017-01-21</th>\n",
       "      <td>US</td>\n",
       "      <td>Houston</td>\n",
       "      <td>o3</td>\n",
       "      <td>111</td>\n",
       "      <td>1.0</td>\n",
       "      <td>37.0</td>\n",
       "      <td>15.0</td>\n",
       "    </tr>\n",
       "    <tr>\n",
       "      <th>2017-01-22</th>\n",
       "      <td>US</td>\n",
       "      <td>Houston</td>\n",
       "      <td>o3</td>\n",
       "      <td>120</td>\n",
       "      <td>8.0</td>\n",
       "      <td>37.0</td>\n",
       "      <td>30.0</td>\n",
       "    </tr>\n",
       "    <tr>\n",
       "      <th>2017-01-23</th>\n",
       "      <td>US</td>\n",
       "      <td>Houston</td>\n",
       "      <td>o3</td>\n",
       "      <td>106</td>\n",
       "      <td>2.0</td>\n",
       "      <td>42.0</td>\n",
       "      <td>23.0</td>\n",
       "    </tr>\n",
       "    <tr>\n",
       "      <th>...</th>\n",
       "      <td>...</td>\n",
       "      <td>...</td>\n",
       "      <td>...</td>\n",
       "      <td>...</td>\n",
       "      <td>...</td>\n",
       "      <td>...</td>\n",
       "      <td>...</td>\n",
       "    </tr>\n",
       "    <tr>\n",
       "      <th>2020-04-11</th>\n",
       "      <td>US</td>\n",
       "      <td>Houston</td>\n",
       "      <td>o3</td>\n",
       "      <td>92</td>\n",
       "      <td>15.0</td>\n",
       "      <td>43.0</td>\n",
       "      <td>33.0</td>\n",
       "    </tr>\n",
       "    <tr>\n",
       "      <th>2020-04-12</th>\n",
       "      <td>US</td>\n",
       "      <td>Houston</td>\n",
       "      <td>o3</td>\n",
       "      <td>95</td>\n",
       "      <td>6.0</td>\n",
       "      <td>43.0</td>\n",
       "      <td>28.0</td>\n",
       "    </tr>\n",
       "    <tr>\n",
       "      <th>2020-04-13</th>\n",
       "      <td>US</td>\n",
       "      <td>Houston</td>\n",
       "      <td>o3</td>\n",
       "      <td>106</td>\n",
       "      <td>6.0</td>\n",
       "      <td>32.0</td>\n",
       "      <td>23.0</td>\n",
       "    </tr>\n",
       "    <tr>\n",
       "      <th>2020-04-14</th>\n",
       "      <td>US</td>\n",
       "      <td>Houston</td>\n",
       "      <td>o3</td>\n",
       "      <td>118</td>\n",
       "      <td>8.0</td>\n",
       "      <td>36.0</td>\n",
       "      <td>27.0</td>\n",
       "    </tr>\n",
       "    <tr>\n",
       "      <th>2020-04-15</th>\n",
       "      <td>US</td>\n",
       "      <td>Houston</td>\n",
       "      <td>o3</td>\n",
       "      <td>118</td>\n",
       "      <td>10.0</td>\n",
       "      <td>41.0</td>\n",
       "      <td>28.0</td>\n",
       "    </tr>\n",
       "  </tbody>\n",
       "</table>\n",
       "<p>204 rows × 7 columns</p>\n",
       "</div>"
      ],
      "text/plain": [
       "           Country     City Specie  count  min (ppb)  max (ppb)  median (ppb)\n",
       "Date                                                                         \n",
       "2017-01-19      US  Houston     o3     89        1.0       19.0           7.0\n",
       "2017-01-20      US  Houston     o3    114        1.0       36.0          17.0\n",
       "2017-01-21      US  Houston     o3    111        1.0       37.0          15.0\n",
       "2017-01-22      US  Houston     o3    120        8.0       37.0          30.0\n",
       "2017-01-23      US  Houston     o3    106        2.0       42.0          23.0\n",
       "...            ...      ...    ...    ...        ...        ...           ...\n",
       "2020-04-11      US  Houston     o3     92       15.0       43.0          33.0\n",
       "2020-04-12      US  Houston     o3     95        6.0       43.0          28.0\n",
       "2020-04-13      US  Houston     o3    106        6.0       32.0          23.0\n",
       "2020-04-14      US  Houston     o3    118        8.0       36.0          27.0\n",
       "2020-04-15      US  Houston     o3    118       10.0       41.0          28.0\n",
       "\n",
       "[204 rows x 7 columns]"
      ]
     },
     "execution_count": 85,
     "metadata": {},
     "output_type": "execute_result"
    }
   ],
   "source": [
    "#so to get the ozone information for Wuhan between the shutdown date of 1/23 and the reopening date of 4/8, we \n",
    "#need to call the function as follows:\n",
    "houston_o3_shutdown_df = shutdownData(all_o3_df, \"Houston\", (3, 19), (4, 16))\n",
    "houston_o3_shutdown_df"
   ]
  },
  {
   "cell_type": "code",
   "execution_count": 86,
   "metadata": {},
   "outputs": [
    {
     "data": {
      "text/html": [
       "<div>\n",
       "<style scoped>\n",
       "    .dataframe tbody tr th:only-of-type {\n",
       "        vertical-align: middle;\n",
       "    }\n",
       "\n",
       "    .dataframe tbody tr th {\n",
       "        vertical-align: top;\n",
       "    }\n",
       "\n",
       "    .dataframe thead th {\n",
       "        text-align: right;\n",
       "    }\n",
       "</style>\n",
       "<table border=\"1\" class=\"dataframe\">\n",
       "  <thead>\n",
       "    <tr style=\"text-align: right;\">\n",
       "      <th></th>\n",
       "      <th>count</th>\n",
       "      <th>min (ug/m3)</th>\n",
       "      <th>max (ug/m3)</th>\n",
       "      <th>median (ug/m3)</th>\n",
       "    </tr>\n",
       "    <tr>\n",
       "      <th>Date</th>\n",
       "      <th></th>\n",
       "      <th></th>\n",
       "      <th></th>\n",
       "      <th></th>\n",
       "    </tr>\n",
       "  </thead>\n",
       "  <tbody>\n",
       "    <tr>\n",
       "      <th>2017</th>\n",
       "      <td>89.294118</td>\n",
       "      <td>1.864706</td>\n",
       "      <td>22.952941</td>\n",
       "      <td>7.331373</td>\n",
       "    </tr>\n",
       "    <tr>\n",
       "      <th>2018</th>\n",
       "      <td>113.215686</td>\n",
       "      <td>2.466667</td>\n",
       "      <td>29.545098</td>\n",
       "      <td>8.490196</td>\n",
       "    </tr>\n",
       "    <tr>\n",
       "      <th>2019</th>\n",
       "      <td>116.078431</td>\n",
       "      <td>1.825490</td>\n",
       "      <td>22.821569</td>\n",
       "      <td>8.182353</td>\n",
       "    </tr>\n",
       "    <tr>\n",
       "      <th>2020</th>\n",
       "      <td>100.705882</td>\n",
       "      <td>2.264706</td>\n",
       "      <td>19.278431</td>\n",
       "      <td>8.096078</td>\n",
       "    </tr>\n",
       "  </tbody>\n",
       "</table>\n",
       "</div>"
      ],
      "text/plain": [
       "           count  min (ug/m3)  max (ug/m3)  median (ug/m3)\n",
       "Date                                                      \n",
       "2017   89.294118     1.864706    22.952941        7.331373\n",
       "2018  113.215686     2.466667    29.545098        8.490196\n",
       "2019  116.078431     1.825490    22.821569        8.182353\n",
       "2020  100.705882     2.264706    19.278431        8.096078"
      ]
     },
     "execution_count": 86,
     "metadata": {},
     "output_type": "execute_result"
    }
   ],
   "source": [
    "#get average of medians by year\n",
    "bar_plot_info = shutdown_time_period_pm_df.groupby(shutdown_time_period_pm_df.index.year).mean()\n",
    "bar_plot_info"
   ]
  },
  {
   "cell_type": "code",
   "execution_count": 87,
   "metadata": {},
   "outputs": [
    {
     "data": {
      "image/png": "[encoded data removed]",
      "text/plain": [
       "<Figure size 432x288 with 1 Axes>"
      ]
     },
     "metadata": {
      "needs_background": "light"
     },
     "output_type": "display_data"
    }
   ],
   "source": [
    "#plot of average medians\n",
    "bar_plot_info.plot(kind=\"bar\", y=\"median (ug/m3)\", legend=None)\n",
    "plt.ylabel(\"Median PM2.5 ub/m3\")\n",
    "plt.title(\"Houston Air Quality - PM2.5 Average Median\")\n",
    "plt.savefig(\"./outputs/Houston/houston_pm25median.png\")"
   ]
  },
  {
   "cell_type": "code",
   "execution_count": 88,
   "metadata": {},
   "outputs": [
    {
     "data": {
      "image/png": "[encoded data removed]",
      "text/plain": [
       "<Figure size 432x288 with 1 Axes>"
      ]
     },
     "metadata": {
      "needs_background": "light"
     },
     "output_type": "display_data"
    }
   ],
   "source": [
    "#plot of average maximums\n",
    "bar_plot_info.plot(kind=\"bar\", y=\"max (ug/m3)\", legend=None)\n",
    "plt.ylabel(\"Max PM2.5 ub/m3\")\n",
    "plt.title(\"Houston Air Quality - Average Max PM2.5\")\n",
    "plt.savefig(\"./outputs/Houston/houston_pm25max.png\")"
   ]
  },
  {
   "cell_type": "code",
   "execution_count": 89,
   "metadata": {},
   "outputs": [
    {
     "data": {
      "text/html": [
       "<div>\n",
       "<style scoped>\n",
       "    .dataframe tbody tr th:only-of-type {\n",
       "        vertical-align: middle;\n",
       "    }\n",
       "\n",
       "    .dataframe tbody tr th {\n",
       "        vertical-align: top;\n",
       "    }\n",
       "\n",
       "    .dataframe thead th {\n",
       "        text-align: right;\n",
       "    }\n",
       "</style>\n",
       "<table border=\"1\" class=\"dataframe\">\n",
       "  <thead>\n",
       "    <tr style=\"text-align: right;\">\n",
       "      <th></th>\n",
       "      <th>count</th>\n",
       "      <th>min (ug/m3)</th>\n",
       "      <th>max (ug/m3)</th>\n",
       "      <th>median (ug/m3)</th>\n",
       "    </tr>\n",
       "    <tr>\n",
       "      <th>Date</th>\n",
       "      <th></th>\n",
       "      <th></th>\n",
       "      <th></th>\n",
       "      <th></th>\n",
       "    </tr>\n",
       "  </thead>\n",
       "  <tbody>\n",
       "    <tr>\n",
       "      <th>2017</th>\n",
       "      <td>NaN</td>\n",
       "      <td>NaN</td>\n",
       "      <td>NaN</td>\n",
       "      <td>NaN</td>\n",
       "    </tr>\n",
       "    <tr>\n",
       "      <th>2018</th>\n",
       "      <td>0.267896</td>\n",
       "      <td>0.322818</td>\n",
       "      <td>0.287203</td>\n",
       "      <td>0.158064</td>\n",
       "    </tr>\n",
       "    <tr>\n",
       "      <th>2019</th>\n",
       "      <td>0.025286</td>\n",
       "      <td>-0.259936</td>\n",
       "      <td>-0.227568</td>\n",
       "      <td>-0.036259</td>\n",
       "    </tr>\n",
       "    <tr>\n",
       "      <th>2020</th>\n",
       "      <td>-0.132432</td>\n",
       "      <td>0.240602</td>\n",
       "      <td>-0.155254</td>\n",
       "      <td>-0.010544</td>\n",
       "    </tr>\n",
       "  </tbody>\n",
       "</table>\n",
       "</div>"
      ],
      "text/plain": [
       "         count  min (ug/m3)  max (ug/m3)  median (ug/m3)\n",
       "Date                                                    \n",
       "2017       NaN          NaN          NaN             NaN\n",
       "2018  0.267896     0.322818     0.287203        0.158064\n",
       "2019  0.025286    -0.259936    -0.227568       -0.036259\n",
       "2020 -0.132432     0.240602    -0.155254       -0.010544"
      ]
     },
     "execution_count": 89,
     "metadata": {},
     "output_type": "execute_result"
    }
   ],
   "source": [
    "#get percentage decrease year over year\n",
    "bar_plot_info.pct_change()"
   ]
  },
  {
   "cell_type": "code",
   "execution_count": 90,
   "metadata": {},
   "outputs": [
    {
     "data": {
      "text/plain": [
       "count             106.196078\n",
       "min (ug/m3)         2.052288\n",
       "max (ug/m3)        25.106536\n",
       "median (ug/m3)      8.001307\n",
       "dtype: float64"
      ]
     },
     "execution_count": 90,
     "metadata": {},
     "output_type": "execute_result"
    }
   ],
   "source": [
    "#combine three previous years into an average median value\n",
    "prior_years_df = bar_plot_info.loc[bar_plot_info.index<2020]\n",
    "prior_averages = prior_years_df.mean()\n",
    "prior_averages"
   ]
  },
  {
   "cell_type": "code",
   "execution_count": 96,
   "metadata": {},
   "outputs": [
    {
     "data": {
      "text/html": [
       "<div>\n",
       "<style scoped>\n",
       "    .dataframe tbody tr th:only-of-type {\n",
       "        vertical-align: middle;\n",
       "    }\n",
       "\n",
       "    .dataframe tbody tr th {\n",
       "        vertical-align: top;\n",
       "    }\n",
       "\n",
       "    .dataframe thead th {\n",
       "        text-align: right;\n",
       "    }\n",
       "</style>\n",
       "<table border=\"1\" class=\"dataframe\">\n",
       "  <thead>\n",
       "    <tr style=\"text-align: right;\">\n",
       "      <th></th>\n",
       "      <th>average median during shutdown dates (ug/m3)</th>\n",
       "    </tr>\n",
       "  </thead>\n",
       "  <tbody>\n",
       "    <tr>\n",
       "      <th>Prior Years</th>\n",
       "      <td>NaN</td>\n",
       "    </tr>\n",
       "    <tr>\n",
       "      <th>2020</th>\n",
       "      <td>0.011844</td>\n",
       "    </tr>\n",
       "  </tbody>\n",
       "</table>\n",
       "</div>"
      ],
      "text/plain": [
       "             average median during shutdown dates (ug/m3)\n",
       "Prior Years                                           NaN\n",
       "2020                                             0.011844"
      ]
     },
     "execution_count": 96,
     "metadata": {},
     "output_type": "execute_result"
    },
    {
     "data": {
      "image/png": "[encoded data removed]",
      "text/plain": [
       "<Figure size 432x288 with 1 Axes>"
      ]
     },
     "metadata": {
      "needs_background": "light"
     },
     "output_type": "display_data"
    }
   ],
   "source": [
    "summary_bar_plot = pd.DataFrame({\"average median during shutdown dates (ug/m3)\":[prior_averages[\"median (ug/m3)\"], \n",
    "                                                                                 bar_plot_info[\"median (ug/m3)\"][2020]]}, \n",
    "                                index=[\"Prior Years\", \"2020\"])\n",
    "\n",
    "summary_bar_plot.plot(kind=\"bar\", legend=None)\n",
    "summary_bar_plot.pct_change()\n",
    "plt.ylabel(\"Avg Median PM2.5 ub/m3\")\n",
    "plt.title(\"Houston Air Quality -  Average Median PM2.5\")\n",
    "plt.savefig(\"./outputs/Houston/houston_3yearMedianchange.png\")\n",
    "summary_bar_plot.pct_change()"
   ]
  },
  {
   "cell_type": "code",
   "execution_count": 107,
   "metadata": {
    "scrolled": true
   },
   "outputs": [
    {
     "data": {
      "image/png": "[encoded data removed]",
      "text/plain": [
       "<Figure size 432x288 with 1 Axes>"
      ]
     },
     "metadata": {
      "needs_background": "light"
     },
     "output_type": "display_data"
    }
   ],
   "source": [
    "line_plot, line_axes = plt.subplots()\n",
    "HO_2020_pm25_df = all_pm25_df.loc[(all_pm25_df.index.year == 2020) & (all_pm25_df[\"City\"] == \"Houston\")]\n",
    "HO_line_axes = HO_2020_pm25_df.plot(kind=\"line\", y=\"median (ug/m3)\", legend=None, ax=line_axes)\n",
    "#set titles, axes labels\n",
    "HO_line_axes.set_title(\"Houston Air Quality 2020 - PM2.5\")\n",
    "HO_line_axes.set_ylabel(\"PM2.5 Average Median (ug/m3)\")\n",
    "HO_line_axes.set_xlabel(\"Month\")\n",
    "HO_line_axes.get_figure().savefig(\"./outputs/Houston/HO_2020_line_plot.png\")"
   ]
  },
  {
   "cell_type": "code",
   "execution_count": 110,
   "metadata": {},
   "outputs": [
    {
     "data": {
      "image/png": "[encoded data removed]",
      "text/plain": [
       "<Figure size 432x288 with 1 Axes>"
      ]
     },
     "execution_count": 110,
     "metadata": {},
     "output_type": "execute_result"
    },
    {
     "data": {
      "text/plain": [
       "<Figure size 432x288 with 0 Axes>"
      ]
     },
     "metadata": {},
     "output_type": "display_data"
    }
   ],
   "source": [
    "HO_2020_shutdown = HO_2020_pm25_df[\"3/19/20\":\"4/16/20\"]\n",
    "shutdown_axes = HO_2020_shutdown.plot(y=\"median (ug/m3)\", style=\"r\", ax=line_axes)\n",
    "shutdown_axes.legend([\"median (ug/m3)\", \"median (ug/m3) during shutdown\"])\n",
    "plt.savefig(\"./outputs/Houston/houston_2020pm25_line.png\")\n",
    "line_plot\n"
   ]
  },
  {
   "cell_type": "code",
   "execution_count": 99,
   "metadata": {},
   "outputs": [
    {
     "data": {
      "text/html": [
       "<div>\n",
       "<style scoped>\n",
       "    .dataframe tbody tr th:only-of-type {\n",
       "        vertical-align: middle;\n",
       "    }\n",
       "\n",
       "    .dataframe tbody tr th {\n",
       "        vertical-align: top;\n",
       "    }\n",
       "\n",
       "    .dataframe thead th {\n",
       "        text-align: right;\n",
       "    }\n",
       "</style>\n",
       "<table border=\"1\" class=\"dataframe\">\n",
       "  <thead>\n",
       "    <tr style=\"text-align: right;\">\n",
       "      <th></th>\n",
       "      <th>count</th>\n",
       "      <th>min (ppb)</th>\n",
       "      <th>max (ppb)</th>\n",
       "      <th>median (ppb)</th>\n",
       "    </tr>\n",
       "    <tr>\n",
       "      <th>Date</th>\n",
       "      <th></th>\n",
       "      <th></th>\n",
       "      <th></th>\n",
       "      <th></th>\n",
       "    </tr>\n",
       "  </thead>\n",
       "  <tbody>\n",
       "    <tr>\n",
       "      <th>2017</th>\n",
       "      <td>111.666667</td>\n",
       "      <td>4.058824</td>\n",
       "      <td>45.843137</td>\n",
       "      <td>25.862745</td>\n",
       "    </tr>\n",
       "    <tr>\n",
       "      <th>2018</th>\n",
       "      <td>112.803922</td>\n",
       "      <td>5.352941</td>\n",
       "      <td>39.470588</td>\n",
       "      <td>23.098039</td>\n",
       "    </tr>\n",
       "    <tr>\n",
       "      <th>2019</th>\n",
       "      <td>108.666667</td>\n",
       "      <td>3.156863</td>\n",
       "      <td>43.058824</td>\n",
       "      <td>24.568627</td>\n",
       "    </tr>\n",
       "    <tr>\n",
       "      <th>2020</th>\n",
       "      <td>106.313725</td>\n",
       "      <td>4.431373</td>\n",
       "      <td>37.254902</td>\n",
       "      <td>20.411765</td>\n",
       "    </tr>\n",
       "  </tbody>\n",
       "</table>\n",
       "</div>"
      ],
      "text/plain": [
       "           count  min (ppb)  max (ppb)  median (ppb)\n",
       "Date                                                \n",
       "2017  111.666667   4.058824  45.843137     25.862745\n",
       "2018  112.803922   5.352941  39.470588     23.098039\n",
       "2019  108.666667   3.156863  43.058824     24.568627\n",
       "2020  106.313725   4.431373  37.254902     20.411765"
      ]
     },
     "execution_count": 99,
     "metadata": {},
     "output_type": "execute_result"
    }
   ],
   "source": [
    "#o3\n",
    "#get average of medians by year\n",
    "bar_plot_info = houston_o3_shutdown_df.groupby(houston_o3_shutdown_df.index.year).mean()\n",
    "bar_plot_info"
   ]
  },
  {
   "cell_type": "code",
   "execution_count": 100,
   "metadata": {},
   "outputs": [
    {
     "data": {
      "image/png": "[encoded data removed]",
      "text/plain": [
       "<Figure size 432x288 with 1 Axes>"
      ]
     },
     "metadata": {
      "needs_background": "light"
     },
     "output_type": "display_data"
    }
   ],
   "source": [
    "#plot of average medians\n",
    "bar_plot_info.plot(kind=\"bar\", y=\"median (ppb)\", legend=None)\n",
    "plt.ylabel(\"Median O3\")\n",
    "plt.title(\"Houston Air Quality - O3 Average Median\")\n",
    "plt.savefig(\"./outputs/Houston/houston_o3median.png\")"
   ]
  },
  {
   "cell_type": "code",
   "execution_count": 101,
   "metadata": {},
   "outputs": [
    {
     "data": {
      "image/png": "[encoded data removed]",
      "text/plain": [
       "<Figure size 432x288 with 1 Axes>"
      ]
     },
     "metadata": {
      "needs_background": "light"
     },
     "output_type": "display_data"
    }
   ],
   "source": [
    "#plot of average maximums\n",
    "bar_plot_info.plot(kind=\"bar\", y=\"max (ppb)\", legend=None)\n",
    "plt.ylabel(\"Max O3 ppb\")\n",
    "plt.title(\"Houston Air Quality - Average Max O3\")\n",
    "plt.savefig(\"./outputs/Houston/houston_o3max.png\")"
   ]
  },
  {
   "cell_type": "code",
   "execution_count": 102,
   "metadata": {},
   "outputs": [
    {
     "data": {
      "text/html": [
       "<div>\n",
       "<style scoped>\n",
       "    .dataframe tbody tr th:only-of-type {\n",
       "        vertical-align: middle;\n",
       "    }\n",
       "\n",
       "    .dataframe tbody tr th {\n",
       "        vertical-align: top;\n",
       "    }\n",
       "\n",
       "    .dataframe thead th {\n",
       "        text-align: right;\n",
       "    }\n",
       "</style>\n",
       "<table border=\"1\" class=\"dataframe\">\n",
       "  <thead>\n",
       "    <tr style=\"text-align: right;\">\n",
       "      <th></th>\n",
       "      <th>count</th>\n",
       "      <th>min (ppb)</th>\n",
       "      <th>max (ppb)</th>\n",
       "      <th>median (ppb)</th>\n",
       "    </tr>\n",
       "    <tr>\n",
       "      <th>Date</th>\n",
       "      <th></th>\n",
       "      <th></th>\n",
       "      <th></th>\n",
       "      <th></th>\n",
       "    </tr>\n",
       "  </thead>\n",
       "  <tbody>\n",
       "    <tr>\n",
       "      <th>2017</th>\n",
       "      <td>NaN</td>\n",
       "      <td>NaN</td>\n",
       "      <td>NaN</td>\n",
       "      <td>NaN</td>\n",
       "    </tr>\n",
       "    <tr>\n",
       "      <th>2018</th>\n",
       "      <td>0.010184</td>\n",
       "      <td>0.318841</td>\n",
       "      <td>-0.139008</td>\n",
       "      <td>-0.106899</td>\n",
       "    </tr>\n",
       "    <tr>\n",
       "      <th>2019</th>\n",
       "      <td>-0.036677</td>\n",
       "      <td>-0.410256</td>\n",
       "      <td>0.090909</td>\n",
       "      <td>0.063667</td>\n",
       "    </tr>\n",
       "    <tr>\n",
       "      <th>2020</th>\n",
       "      <td>-0.021653</td>\n",
       "      <td>0.403727</td>\n",
       "      <td>-0.134791</td>\n",
       "      <td>-0.169194</td>\n",
       "    </tr>\n",
       "  </tbody>\n",
       "</table>\n",
       "</div>"
      ],
      "text/plain": [
       "         count  min (ppb)  max (ppb)  median (ppb)\n",
       "Date                                              \n",
       "2017       NaN        NaN        NaN           NaN\n",
       "2018  0.010184   0.318841  -0.139008     -0.106899\n",
       "2019 -0.036677  -0.410256   0.090909      0.063667\n",
       "2020 -0.021653   0.403727  -0.134791     -0.169194"
      ]
     },
     "execution_count": 102,
     "metadata": {},
     "output_type": "execute_result"
    }
   ],
   "source": [
    "#get percentage decrease year over year\n",
    "bar_plot_info.pct_change()"
   ]
  },
  {
   "cell_type": "code",
   "execution_count": 103,
   "metadata": {},
   "outputs": [
    {
     "data": {
      "text/plain": [
       "count           111.045752\n",
       "min (ppb)         4.189542\n",
       "max (ppb)        42.790850\n",
       "median (ppb)     24.509804\n",
       "dtype: float64"
      ]
     },
     "execution_count": 103,
     "metadata": {},
     "output_type": "execute_result"
    }
   ],
   "source": [
    "#combine three previous years into an average median value\n",
    "prior_years_df = bar_plot_info.loc[bar_plot_info.index<2020]\n",
    "prior_averages = prior_years_df.mean()\n",
    "prior_averages"
   ]
  },
  {
   "cell_type": "code",
   "execution_count": 104,
   "metadata": {},
   "outputs": [
    {
     "data": {
      "text/html": [
       "<div>\n",
       "<style scoped>\n",
       "    .dataframe tbody tr th:only-of-type {\n",
       "        vertical-align: middle;\n",
       "    }\n",
       "\n",
       "    .dataframe tbody tr th {\n",
       "        vertical-align: top;\n",
       "    }\n",
       "\n",
       "    .dataframe thead th {\n",
       "        text-align: right;\n",
       "    }\n",
       "</style>\n",
       "<table border=\"1\" class=\"dataframe\">\n",
       "  <thead>\n",
       "    <tr style=\"text-align: right;\">\n",
       "      <th></th>\n",
       "      <th>average median during shutdown dates (ppb)</th>\n",
       "    </tr>\n",
       "  </thead>\n",
       "  <tbody>\n",
       "    <tr>\n",
       "      <th>Prior Years</th>\n",
       "      <td>NaN</td>\n",
       "    </tr>\n",
       "    <tr>\n",
       "      <th>2020</th>\n",
       "      <td>-0.1672</td>\n",
       "    </tr>\n",
       "  </tbody>\n",
       "</table>\n",
       "</div>"
      ],
      "text/plain": [
       "             average median during shutdown dates (ppb)\n",
       "Prior Years                                         NaN\n",
       "2020                                            -0.1672"
      ]
     },
     "execution_count": 104,
     "metadata": {},
     "output_type": "execute_result"
    },
    {
     "data": {
      "image/png": "[encoded data removed]",
      "text/plain": [
       "<Figure size 432x288 with 1 Axes>"
      ]
     },
     "metadata": {
      "needs_background": "light"
     },
     "output_type": "display_data"
    }
   ],
   "source": [
    "summary_bar_plot = pd.DataFrame({\"average median during shutdown dates (ppb)\":[prior_averages[\"median (ppb)\"], \n",
    "                                                                                 bar_plot_info[\"median (ppb)\"][2020]]}, \n",
    "                                index=[\"Prior Years\", \"2020\"])\n",
    "\n",
    "summary_bar_plot.plot(kind=\"bar\", legend=None)\n",
    "\n",
    "plt.ylabel(\"Avg Median O3 (ppb)\")\n",
    "plt.title(\"Houston Air Quality -  Average Median O3\")\n",
    "plt.savefig(\"./outputs/Houston/houstono3_3yearMedianchange.png\")\n",
    "summary_bar_plot.pct_change()"
   ]
  },
  {
   "cell_type": "code",
   "execution_count": null,
   "metadata": {},
   "outputs": [],
   "source": []
  },
  {
   "cell_type": "code",
   "execution_count": null,
   "metadata": {},
   "outputs": [],
   "source": []
  },
  {
   "cell_type": "code",
   "execution_count": null,
   "metadata": {},
   "outputs": [],
   "source": []
  }
 ],
 "metadata": {
  "kernelspec": {
   "display_name": "Python 3",
   "language": "python",
   "name": "python3"
  },
  "language_info": {
   "codemirror_mode": {
    "name": "ipython",
    "version": 3
   },
   "file_extension": ".py",
   "mimetype": "text/x-python",
   "name": "python",
   "nbconvert_exporter": "python",
   "pygments_lexer": "ipython3",
   "version": "3.7.6"
  }
 },
 "nbformat": 4,
 "nbformat_minor": 4
}
