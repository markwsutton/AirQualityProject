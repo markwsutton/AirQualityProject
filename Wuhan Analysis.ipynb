{
 "cells": [
  {
   "cell_type": "code",
   "execution_count": 1,
   "metadata": {},
   "outputs": [
    {
     "data": {
      "text/html": [
       "<div>\n",
       "<style scoped>\n",
       "    .dataframe tbody tr th:only-of-type {\n",
       "        vertical-align: middle;\n",
       "    }\n",
       "\n",
       "    .dataframe tbody tr th {\n",
       "        vertical-align: top;\n",
       "    }\n",
       "\n",
       "    .dataframe thead th {\n",
       "        text-align: right;\n",
       "    }\n",
       "</style>\n",
       "<table border=\"1\" class=\"dataframe\">\n",
       "  <thead>\n",
       "    <tr style=\"text-align: right;\">\n",
       "      <th></th>\n",
       "      <th>Country</th>\n",
       "      <th>City</th>\n",
       "      <th>Specie</th>\n",
       "      <th>count</th>\n",
       "      <th>min (ug/m3)</th>\n",
       "      <th>max (ug/m3)</th>\n",
       "      <th>median (ug/m3)</th>\n",
       "    </tr>\n",
       "    <tr>\n",
       "      <th>Date</th>\n",
       "      <th></th>\n",
       "      <th></th>\n",
       "      <th></th>\n",
       "      <th></th>\n",
       "      <th></th>\n",
       "      <th></th>\n",
       "      <th></th>\n",
       "    </tr>\n",
       "  </thead>\n",
       "  <tbody>\n",
       "    <tr>\n",
       "      <th>2017-01-01</th>\n",
       "      <td>IN</td>\n",
       "      <td>New Delhi</td>\n",
       "      <td>pm25</td>\n",
       "      <td>24</td>\n",
       "      <td>54.9</td>\n",
       "      <td>282.7</td>\n",
       "      <td>177.7</td>\n",
       "    </tr>\n",
       "    <tr>\n",
       "      <th>2017-01-01</th>\n",
       "      <td>CN</td>\n",
       "      <td>Shanghai</td>\n",
       "      <td>pm25</td>\n",
       "      <td>215</td>\n",
       "      <td>12.0</td>\n",
       "      <td>63.2</td>\n",
       "      <td>34.4</td>\n",
       "    </tr>\n",
       "    <tr>\n",
       "      <th>2017-01-01</th>\n",
       "      <td>US</td>\n",
       "      <td>Jacksonville</td>\n",
       "      <td>pm25</td>\n",
       "      <td>115</td>\n",
       "      <td>3.1</td>\n",
       "      <td>113.6</td>\n",
       "      <td>8.1</td>\n",
       "    </tr>\n",
       "    <tr>\n",
       "      <th>2017-01-01</th>\n",
       "      <td>US</td>\n",
       "      <td>Los Angeles</td>\n",
       "      <td>pm25</td>\n",
       "      <td>69</td>\n",
       "      <td>3.3</td>\n",
       "      <td>109.7</td>\n",
       "      <td>15.9</td>\n",
       "    </tr>\n",
       "    <tr>\n",
       "      <th>2017-01-01</th>\n",
       "      <td>US</td>\n",
       "      <td>Manhattan</td>\n",
       "      <td>pm25</td>\n",
       "      <td>96</td>\n",
       "      <td>4.3</td>\n",
       "      <td>23.0</td>\n",
       "      <td>12.1</td>\n",
       "    </tr>\n",
       "  </tbody>\n",
       "</table>\n",
       "</div>"
      ],
      "text/plain": [
       "           Country          City Specie  count  min (ug/m3)  max (ug/m3)  \\\n",
       "Date                                                                       \n",
       "2017-01-01      IN     New Delhi   pm25     24         54.9        282.7   \n",
       "2017-01-01      CN      Shanghai   pm25    215         12.0         63.2   \n",
       "2017-01-01      US  Jacksonville   pm25    115          3.1        113.6   \n",
       "2017-01-01      US   Los Angeles   pm25     69          3.3        109.7   \n",
       "2017-01-01      US     Manhattan   pm25     96          4.3         23.0   \n",
       "\n",
       "            median (ug/m3)  \n",
       "Date                        \n",
       "2017-01-01           177.7  \n",
       "2017-01-01            34.4  \n",
       "2017-01-01             8.1  \n",
       "2017-01-01            15.9  \n",
       "2017-01-01            12.1  "
      ]
     },
     "execution_count": 1,
     "metadata": {},
     "output_type": "execute_result"
    }
   ],
   "source": [
    "import pandas as pd\n",
    "import datetime\n",
    "\n",
    "all_o3_df = pd.read_csv(\"./Resources/all_years_o3.csv\")\n",
    "#turn date column elements into datetime objects\n",
    "all_o3_df[\"Date\"] = pd.to_datetime(all_o3_df[\"Date\"])\n",
    "all_o3_df = all_o3_df.set_index(\"Date\")\n",
    "\n",
    "all_pm25_df = pd.read_csv(\"./Resources/all_years_pm25.csv\")\n",
    "#turn date column elements into datetime objects\n",
    "all_pm25_df[\"Date\"] = pd.to_datetime(all_pm25_df[\"Date\"])\n",
    "all_pm25_df = all_pm25_df.set_index(\"Date\")\n",
    "all_pm25_df.head()"
   ]
  },
  {
   "cell_type": "code",
   "execution_count": 2,
   "metadata": {},
   "outputs": [],
   "source": [
    "#inputs for the function are the complete dataframe for one particulate (df), the city name (city), an integer tuple in the \n",
    "#form of (month, day) for the shutdown date (shutdown_date, for example (1, 23) for 1/23) - NOTE that this is the \n",
    "#date where the strictest lockdown regulations start for that city, and an integer tuple in the \n",
    "#form of (month, day) for the reopen date (reopen_date, for example (4, 8) for 4/8) - NOTE that this is the date when the city \n",
    "#begins to reopen from the strictest lockdown regulations\n",
    "#\n",
    "#returns a dataframe with the correct shutdown date ranges for all years in the data set\n",
    "def shutdownData(df, city, shutdown_date, reopen_date):\n",
    "\n",
    "    mask = ((pd.Series(map(lambda x: x.month <= shutdown_date[0], df.index.date), index=df.index)) &\n",
    "                                                ((pd.Series(map(lambda x: x.day < shutdown_date[1], df.index.date), index=df.index))))\n",
    "    #first get dates after the start date for all years\n",
    "    shutdown_time_period_df = df.loc[~mask, :]\n",
    "\n",
    "    #remove the later months\n",
    "    shutdown_time_period_df = shutdown_time_period_df.loc[shutdown_time_period_df.index.month<=reopen_date[0]]\n",
    "\n",
    "    #now get dates before the end date\n",
    "    mask2 = ((pd.Series(map(lambda x: x.month == reopen_date[0], shutdown_time_period_df.index.date), index=shutdown_time_period_df.index)) &\n",
    "                                                ((pd.Series(map(lambda x: x.day >= reopen_date[1], shutdown_time_period_df.index.date), index=shutdown_time_period_df.index))))\n",
    "\n",
    "    shutdown_time_period_df = shutdown_time_period_df.loc[~mask2, :]\n",
    "\n",
    "    shutdown_time_period_df = shutdown_time_period_df.loc[shutdown_time_period_df[\"City\"] == city]\n",
    "    \n",
    "    return shutdown_time_period_df\n",
    "\n",
    "shutdown_time_period_pm_df = shutdownData(all_pm25_df, \"Wuhan\", (1, 23), (4, 8))\n",
    "\n",
    "#print(\"The 'shutdownData' function is working correctly:\", test_df.equals(shutdown_time_period_pm_df))"
   ]
  },
  {
   "cell_type": "code",
   "execution_count": 3,
   "metadata": {},
   "outputs": [
    {
     "data": {
      "text/html": [
       "<div>\n",
       "<style scoped>\n",
       "    .dataframe tbody tr th:only-of-type {\n",
       "        vertical-align: middle;\n",
       "    }\n",
       "\n",
       "    .dataframe tbody tr th {\n",
       "        vertical-align: top;\n",
       "    }\n",
       "\n",
       "    .dataframe thead th {\n",
       "        text-align: right;\n",
       "    }\n",
       "</style>\n",
       "<table border=\"1\" class=\"dataframe\">\n",
       "  <thead>\n",
       "    <tr style=\"text-align: right;\">\n",
       "      <th></th>\n",
       "      <th>Country</th>\n",
       "      <th>City</th>\n",
       "      <th>Specie</th>\n",
       "      <th>count</th>\n",
       "      <th>min (ppb)</th>\n",
       "      <th>max (ppb)</th>\n",
       "      <th>median (ppb)</th>\n",
       "    </tr>\n",
       "    <tr>\n",
       "      <th>Date</th>\n",
       "      <th></th>\n",
       "      <th></th>\n",
       "      <th></th>\n",
       "      <th></th>\n",
       "      <th></th>\n",
       "      <th></th>\n",
       "      <th></th>\n",
       "    </tr>\n",
       "  </thead>\n",
       "  <tbody>\n",
       "    <tr>\n",
       "      <th>2017-01-23</th>\n",
       "      <td>CN</td>\n",
       "      <td>Wuhan</td>\n",
       "      <td>o3</td>\n",
       "      <td>347</td>\n",
       "      <td>0.0</td>\n",
       "      <td>50.0</td>\n",
       "      <td>18.0</td>\n",
       "    </tr>\n",
       "    <tr>\n",
       "      <th>2017-01-24</th>\n",
       "      <td>CN</td>\n",
       "      <td>Wuhan</td>\n",
       "      <td>o3</td>\n",
       "      <td>380</td>\n",
       "      <td>2.0</td>\n",
       "      <td>49.0</td>\n",
       "      <td>23.0</td>\n",
       "    </tr>\n",
       "    <tr>\n",
       "      <th>2017-01-25</th>\n",
       "      <td>CN</td>\n",
       "      <td>Wuhan</td>\n",
       "      <td>o3</td>\n",
       "      <td>399</td>\n",
       "      <td>0.0</td>\n",
       "      <td>57.0</td>\n",
       "      <td>17.0</td>\n",
       "    </tr>\n",
       "    <tr>\n",
       "      <th>2017-01-26</th>\n",
       "      <td>CN</td>\n",
       "      <td>Wuhan</td>\n",
       "      <td>o3</td>\n",
       "      <td>400</td>\n",
       "      <td>0.0</td>\n",
       "      <td>55.0</td>\n",
       "      <td>18.0</td>\n",
       "    </tr>\n",
       "    <tr>\n",
       "      <th>2017-01-27</th>\n",
       "      <td>CN</td>\n",
       "      <td>Wuhan</td>\n",
       "      <td>o3</td>\n",
       "      <td>360</td>\n",
       "      <td>0.0</td>\n",
       "      <td>43.0</td>\n",
       "      <td>25.0</td>\n",
       "    </tr>\n",
       "    <tr>\n",
       "      <th>...</th>\n",
       "      <td>...</td>\n",
       "      <td>...</td>\n",
       "      <td>...</td>\n",
       "      <td>...</td>\n",
       "      <td>...</td>\n",
       "      <td>...</td>\n",
       "      <td>...</td>\n",
       "    </tr>\n",
       "    <tr>\n",
       "      <th>2020-04-03</th>\n",
       "      <td>CN</td>\n",
       "      <td>Wuhan</td>\n",
       "      <td>o3</td>\n",
       "      <td>387</td>\n",
       "      <td>15.0</td>\n",
       "      <td>58.0</td>\n",
       "      <td>35.0</td>\n",
       "    </tr>\n",
       "    <tr>\n",
       "      <th>2020-04-04</th>\n",
       "      <td>CN</td>\n",
       "      <td>Wuhan</td>\n",
       "      <td>o3</td>\n",
       "      <td>386</td>\n",
       "      <td>2.0</td>\n",
       "      <td>63.0</td>\n",
       "      <td>35.0</td>\n",
       "    </tr>\n",
       "    <tr>\n",
       "      <th>2020-04-05</th>\n",
       "      <td>CN</td>\n",
       "      <td>Wuhan</td>\n",
       "      <td>o3</td>\n",
       "      <td>384</td>\n",
       "      <td>7.0</td>\n",
       "      <td>66.0</td>\n",
       "      <td>47.0</td>\n",
       "    </tr>\n",
       "    <tr>\n",
       "      <th>2020-04-06</th>\n",
       "      <td>CN</td>\n",
       "      <td>Wuhan</td>\n",
       "      <td>o3</td>\n",
       "      <td>387</td>\n",
       "      <td>15.0</td>\n",
       "      <td>61.0</td>\n",
       "      <td>43.0</td>\n",
       "    </tr>\n",
       "    <tr>\n",
       "      <th>2020-04-07</th>\n",
       "      <td>CN</td>\n",
       "      <td>Wuhan</td>\n",
       "      <td>o3</td>\n",
       "      <td>383</td>\n",
       "      <td>1.0</td>\n",
       "      <td>68.0</td>\n",
       "      <td>36.0</td>\n",
       "    </tr>\n",
       "  </tbody>\n",
       "</table>\n",
       "<p>299 rows × 7 columns</p>\n",
       "</div>"
      ],
      "text/plain": [
       "           Country   City Specie  count  min (ppb)  max (ppb)  median (ppb)\n",
       "Date                                                                       \n",
       "2017-01-23      CN  Wuhan     o3    347        0.0       50.0          18.0\n",
       "2017-01-24      CN  Wuhan     o3    380        2.0       49.0          23.0\n",
       "2017-01-25      CN  Wuhan     o3    399        0.0       57.0          17.0\n",
       "2017-01-26      CN  Wuhan     o3    400        0.0       55.0          18.0\n",
       "2017-01-27      CN  Wuhan     o3    360        0.0       43.0          25.0\n",
       "...            ...    ...    ...    ...        ...        ...           ...\n",
       "2020-04-03      CN  Wuhan     o3    387       15.0       58.0          35.0\n",
       "2020-04-04      CN  Wuhan     o3    386        2.0       63.0          35.0\n",
       "2020-04-05      CN  Wuhan     o3    384        7.0       66.0          47.0\n",
       "2020-04-06      CN  Wuhan     o3    387       15.0       61.0          43.0\n",
       "2020-04-07      CN  Wuhan     o3    383        1.0       68.0          36.0\n",
       "\n",
       "[299 rows x 7 columns]"
      ]
     },
     "execution_count": 3,
     "metadata": {},
     "output_type": "execute_result"
    }
   ],
   "source": [
    "#so to get the ozone information for Wuhan between the shutdown date of 1/23 and the reopening date of 4/8, we \n",
    "#need to call the function as follows:\n",
    "wuhan_o3_shutdown_df = shutdownData(all_o3_df, \"Wuhan\", (1, 23), (4, 8))\n",
    "wuhan_o3_shutdown_df"
   ]
  },
  {
   "cell_type": "code",
   "execution_count": 4,
   "metadata": {},
   "outputs": [
    {
     "data": {
      "text/html": [
       "<div>\n",
       "<style scoped>\n",
       "    .dataframe tbody tr th:only-of-type {\n",
       "        vertical-align: middle;\n",
       "    }\n",
       "\n",
       "    .dataframe tbody tr th {\n",
       "        vertical-align: top;\n",
       "    }\n",
       "\n",
       "    .dataframe thead th {\n",
       "        text-align: right;\n",
       "    }\n",
       "</style>\n",
       "<table border=\"1\" class=\"dataframe\">\n",
       "  <thead>\n",
       "    <tr style=\"text-align: right;\">\n",
       "      <th></th>\n",
       "      <th>count</th>\n",
       "      <th>min (ug/m3)</th>\n",
       "      <th>max (ug/m3)</th>\n",
       "      <th>median (ug/m3)</th>\n",
       "    </tr>\n",
       "    <tr>\n",
       "      <th>Date</th>\n",
       "      <th></th>\n",
       "      <th></th>\n",
       "      <th></th>\n",
       "      <th></th>\n",
       "    </tr>\n",
       "  </thead>\n",
       "  <tbody>\n",
       "    <tr>\n",
       "      <th>2017</th>\n",
       "      <td>392.773333</td>\n",
       "      <td>31.604000</td>\n",
       "      <td>146.686763</td>\n",
       "      <td>67.894667</td>\n",
       "    </tr>\n",
       "    <tr>\n",
       "      <th>2018</th>\n",
       "      <td>386.400000</td>\n",
       "      <td>21.257333</td>\n",
       "      <td>152.695591</td>\n",
       "      <td>52.801333</td>\n",
       "    </tr>\n",
       "    <tr>\n",
       "      <th>2019</th>\n",
       "      <td>376.148649</td>\n",
       "      <td>19.433784</td>\n",
       "      <td>125.733971</td>\n",
       "      <td>54.258108</td>\n",
       "    </tr>\n",
       "    <tr>\n",
       "      <th>2020</th>\n",
       "      <td>378.184211</td>\n",
       "      <td>14.336842</td>\n",
       "      <td>77.788158</td>\n",
       "      <td>35.568421</td>\n",
       "    </tr>\n",
       "  </tbody>\n",
       "</table>\n",
       "</div>"
      ],
      "text/plain": [
       "           count  min (ug/m3)  max (ug/m3)  median (ug/m3)\n",
       "Date                                                      \n",
       "2017  392.773333    31.604000   146.686763       67.894667\n",
       "2018  386.400000    21.257333   152.695591       52.801333\n",
       "2019  376.148649    19.433784   125.733971       54.258108\n",
       "2020  378.184211    14.336842    77.788158       35.568421"
      ]
     },
     "execution_count": 4,
     "metadata": {},
     "output_type": "execute_result"
    }
   ],
   "source": [
    "#get average of medians by year\n",
    "bar_plot_info = shutdown_time_period_pm_df.groupby(shutdown_time_period_pm_df.index.year).mean()\n",
    "bar_plot_info"
   ]
  },
  {
   "cell_type": "code",
   "execution_count": 28,
   "metadata": {},
   "outputs": [
    {
     "data": {
      "image/png": "[encoded data removed]",
      "text/plain": [
       "<Figure size 432x288 with 1 Axes>"
      ]
     },
     "metadata": {
      "needs_background": "light"
     },
     "output_type": "display_data"
    }
   ],
   "source": [
    "#plot of average medians\n",
    "bar_plot_axes = bar_plot_info.plot(kind=\"bar\", y=\"median (ug/m3)\")\n",
    "\n",
    "#set titles, axes labels\n",
    "bar_plot_axes.set_title(\"Wuhan Air Quality - PM2.5 Average Median\")\n",
    "bar_plot_axes.set_ylabel(\"PM2.5 Average Median (ug/m3)\")\n",
    "bar_plot_axes.set_xlabel(\"Year\")\n",
    "\n",
    "bar_plot_axes.get_figure().savefig(\"./output/Wuhan/Wuhan_pm25median.png\")"
   ]
  },
  {
   "cell_type": "code",
   "execution_count": 30,
   "metadata": {},
   "outputs": [
    {
     "data": {
      "image/png": "[encoded data removed]",
      "text/plain": [
       "<Figure size 432x288 with 1 Axes>"
      ]
     },
     "metadata": {
      "needs_background": "light"
     },
     "output_type": "display_data"
    }
   ],
   "source": [
    "#plot of average maximums\n",
    "bar_plot_2_axes = bar_plot_info.plot(kind=\"bar\", y=\"max (ug/m3)\")\n",
    "\n",
    "#set titles, axes labels\n",
    "bar_plot_2_axes.set_title(\"Wuhan Air Quality - PM2.5 Average Max\")\n",
    "bar_plot_2_axes.set_ylabel(\"PM2.5 Average Max (ug/m3)\")\n",
    "bar_plot_2_axes.set_xlabel(\"Year\")\n",
    "\n",
    "bar_plot_2_axes.get_figure().savefig(\"./output/Wuhan/Wuhan_pm25max.png\")"
   ]
  },
  {
   "cell_type": "code",
   "execution_count": 7,
   "metadata": {},
   "outputs": [
    {
     "data": {
      "text/html": [
       "<div>\n",
       "<style scoped>\n",
       "    .dataframe tbody tr th:only-of-type {\n",
       "        vertical-align: middle;\n",
       "    }\n",
       "\n",
       "    .dataframe tbody tr th {\n",
       "        vertical-align: top;\n",
       "    }\n",
       "\n",
       "    .dataframe thead th {\n",
       "        text-align: right;\n",
       "    }\n",
       "</style>\n",
       "<table border=\"1\" class=\"dataframe\">\n",
       "  <thead>\n",
       "    <tr style=\"text-align: right;\">\n",
       "      <th></th>\n",
       "      <th>count</th>\n",
       "      <th>min (ug/m3)</th>\n",
       "      <th>max (ug/m3)</th>\n",
       "      <th>median (ug/m3)</th>\n",
       "    </tr>\n",
       "    <tr>\n",
       "      <th>Date</th>\n",
       "      <th></th>\n",
       "      <th></th>\n",
       "      <th></th>\n",
       "      <th></th>\n",
       "    </tr>\n",
       "  </thead>\n",
       "  <tbody>\n",
       "    <tr>\n",
       "      <th>2017</th>\n",
       "      <td>NaN</td>\n",
       "      <td>NaN</td>\n",
       "      <td>NaN</td>\n",
       "      <td>NaN</td>\n",
       "    </tr>\n",
       "    <tr>\n",
       "      <th>2018</th>\n",
       "      <td>-0.016226</td>\n",
       "      <td>-0.327385</td>\n",
       "      <td>0.040964</td>\n",
       "      <td>-0.222305</td>\n",
       "    </tr>\n",
       "    <tr>\n",
       "      <th>2019</th>\n",
       "      <td>-0.026530</td>\n",
       "      <td>-0.085784</td>\n",
       "      <td>-0.176571</td>\n",
       "      <td>0.027590</td>\n",
       "    </tr>\n",
       "    <tr>\n",
       "      <th>2020</th>\n",
       "      <td>0.005412</td>\n",
       "      <td>-0.262272</td>\n",
       "      <td>-0.381327</td>\n",
       "      <td>-0.344459</td>\n",
       "    </tr>\n",
       "  </tbody>\n",
       "</table>\n",
       "</div>"
      ],
      "text/plain": [
       "         count  min (ug/m3)  max (ug/m3)  median (ug/m3)\n",
       "Date                                                    \n",
       "2017       NaN          NaN          NaN             NaN\n",
       "2018 -0.016226    -0.327385     0.040964       -0.222305\n",
       "2019 -0.026530    -0.085784    -0.176571        0.027590\n",
       "2020  0.005412    -0.262272    -0.381327       -0.344459"
      ]
     },
     "execution_count": 7,
     "metadata": {},
     "output_type": "execute_result"
    }
   ],
   "source": [
    "#get percentage decrease year over year\n",
    "bar_plot_info.pct_change()"
   ]
  },
  {
   "cell_type": "code",
   "execution_count": 8,
   "metadata": {},
   "outputs": [
    {
     "data": {
      "text/plain": [
       "count             385.107327\n",
       "min (ug/m3)        24.098372\n",
       "max (ug/m3)       141.705442\n",
       "median (ug/m3)     58.318036\n",
       "dtype: float64"
      ]
     },
     "execution_count": 8,
     "metadata": {},
     "output_type": "execute_result"
    }
   ],
   "source": [
    "#combine three previous years into an average median value\n",
    "prior_years_df = bar_plot_info.loc[bar_plot_info.index<2020]\n",
    "prior_averages = prior_years_df.mean()\n",
    "prior_averages"
   ]
  },
  {
   "cell_type": "code",
   "execution_count": 31,
   "metadata": {},
   "outputs": [
    {
     "data": {
      "image/png": "[encoded data removed]",
      "text/plain": [
       "<Figure size 432x288 with 1 Axes>"
      ]
     },
     "metadata": {
      "needs_background": "light"
     },
     "output_type": "display_data"
    }
   ],
   "source": [
    "summary_bar_plot = pd.DataFrame({\"average median during shutdown dates (ug/m3)\":[prior_averages[\"median (ug/m3)\"], \n",
    "                                                                                 bar_plot_info[\"median (ug/m3)\"][2020]]}, \n",
    "                                index=[\"Prior Years\", \"2020\"])\n",
    "\n",
    "summary_axes = summary_bar_plot.plot(kind=\"bar\")\n",
    "summary_bar_plot.pct_change()\n",
    "\n",
    "#set titles, axes labels\n",
    "summary_axes.set_title(\"Wuhan Air Quality - Average Median\")\n",
    "summary_axes.set_ylabel(\"PM2.5 Average Median (ug/m3)\")\n",
    "summary_axes.set_xlabel(\"Year\")\n",
    "\n",
    "summary_axes.get_figure().savefig(\"./output/Wuhan/Wuhan_3yearmedianchange.png\")"
   ]
  },
  {
   "cell_type": "code",
   "execution_count": 11,
   "metadata": {},
   "outputs": [
    {
     "data": {
      "text/html": [
       "<div>\n",
       "<style scoped>\n",
       "    .dataframe tbody tr th:only-of-type {\n",
       "        vertical-align: middle;\n",
       "    }\n",
       "\n",
       "    .dataframe tbody tr th {\n",
       "        vertical-align: top;\n",
       "    }\n",
       "\n",
       "    .dataframe thead th {\n",
       "        text-align: right;\n",
       "    }\n",
       "</style>\n",
       "<table border=\"1\" class=\"dataframe\">\n",
       "  <thead>\n",
       "    <tr style=\"text-align: right;\">\n",
       "      <th></th>\n",
       "      <th>count</th>\n",
       "      <th>min (ppb)</th>\n",
       "      <th>max (ppb)</th>\n",
       "      <th>median (ppb)</th>\n",
       "    </tr>\n",
       "    <tr>\n",
       "      <th>Date</th>\n",
       "      <th></th>\n",
       "      <th></th>\n",
       "      <th></th>\n",
       "      <th></th>\n",
       "    </tr>\n",
       "  </thead>\n",
       "  <tbody>\n",
       "    <tr>\n",
       "      <th>2017</th>\n",
       "      <td>369.466667</td>\n",
       "      <td>0.893333</td>\n",
       "      <td>48.360000</td>\n",
       "      <td>18.493333</td>\n",
       "    </tr>\n",
       "    <tr>\n",
       "      <th>2018</th>\n",
       "      <td>379.866667</td>\n",
       "      <td>1.626667</td>\n",
       "      <td>53.813333</td>\n",
       "      <td>18.800000</td>\n",
       "    </tr>\n",
       "    <tr>\n",
       "      <th>2019</th>\n",
       "      <td>366.931507</td>\n",
       "      <td>1.328767</td>\n",
       "      <td>51.671233</td>\n",
       "      <td>17.068493</td>\n",
       "    </tr>\n",
       "    <tr>\n",
       "      <th>2020</th>\n",
       "      <td>378.894737</td>\n",
       "      <td>5.921053</td>\n",
       "      <td>47.381579</td>\n",
       "      <td>26.618421</td>\n",
       "    </tr>\n",
       "  </tbody>\n",
       "</table>\n",
       "</div>"
      ],
      "text/plain": [
       "           count  min (ppb)  max (ppb)  median (ppb)\n",
       "Date                                                \n",
       "2017  369.466667   0.893333  48.360000     18.493333\n",
       "2018  379.866667   1.626667  53.813333     18.800000\n",
       "2019  366.931507   1.328767  51.671233     17.068493\n",
       "2020  378.894737   5.921053  47.381579     26.618421"
      ]
     },
     "execution_count": 11,
     "metadata": {},
     "output_type": "execute_result"
    }
   ],
   "source": [
    "#look at o3 values for wuhan for the same time period by year\n",
    "wuhan_avg_o3_df = wuhan_o3_shutdown_df.groupby(wuhan_o3_shutdown_df.index.year).mean()\n",
    "wuhan_avg_o3_df"
   ]
  },
  {
   "cell_type": "code",
   "execution_count": 16,
   "metadata": {},
   "outputs": [
    {
     "data": {
      "text/plain": [
       "count           372.088280\n",
       "min (ppb)         1.282922\n",
       "max (ppb)        51.281522\n",
       "median (ppb)     18.120609\n",
       "dtype: float64"
      ]
     },
     "execution_count": 16,
     "metadata": {},
     "output_type": "execute_result"
    }
   ],
   "source": [
    "#combine three previous years into an average median value\n",
    "prior_years_o3_df = wuhan_avg_o3_df.loc[wuhan_avg_o3_df.index<2020]\n",
    "prior_o3_averages = prior_years_o3_df.mean()\n",
    "prior_o3_averages"
   ]
  },
  {
   "cell_type": "code",
   "execution_count": 34,
   "metadata": {},
   "outputs": [
    {
     "data": {
      "text/html": [
       "<div>\n",
       "<style scoped>\n",
       "    .dataframe tbody tr th:only-of-type {\n",
       "        vertical-align: middle;\n",
       "    }\n",
       "\n",
       "    .dataframe tbody tr th {\n",
       "        vertical-align: top;\n",
       "    }\n",
       "\n",
       "    .dataframe thead th {\n",
       "        text-align: right;\n",
       "    }\n",
       "</style>\n",
       "<table border=\"1\" class=\"dataframe\">\n",
       "  <thead>\n",
       "    <tr style=\"text-align: right;\">\n",
       "      <th></th>\n",
       "      <th>average median during shutdown dates (ppb)</th>\n",
       "    </tr>\n",
       "  </thead>\n",
       "  <tbody>\n",
       "    <tr>\n",
       "      <th>Prior Years</th>\n",
       "      <td>NaN</td>\n",
       "    </tr>\n",
       "    <tr>\n",
       "      <th>2020</th>\n",
       "      <td>0.468958</td>\n",
       "    </tr>\n",
       "  </tbody>\n",
       "</table>\n",
       "</div>"
      ],
      "text/plain": [
       "             average median during shutdown dates (ppb)\n",
       "Prior Years                                         NaN\n",
       "2020                                           0.468958"
      ]
     },
     "execution_count": 34,
     "metadata": {},
     "output_type": "execute_result"
    },
    {
     "data": {
      "image/png": "[encoded data removed]",
      "text/plain": [
       "<Figure size 432x288 with 1 Axes>"
      ]
     },
     "metadata": {
      "needs_background": "light"
     },
     "output_type": "display_data"
    }
   ],
   "source": [
    "summary_bar_plot = pd.DataFrame({\"average median during shutdown dates (ppb)\":[prior_o3_averages[\"median (ppb)\"], \n",
    "                                                                                 wuhan_avg_o3_df[\"median (ppb)\"][2020]]}, \n",
    "                                index=[\"Prior Years\", \"2020\"])\n",
    "\n",
    "o3_axes = summary_bar_plot.plot(kind=\"bar\")\n",
    "\n",
    "#set titles, axes labels\n",
    "o3_axes.set_title(\"Wuhan Air Quality - Ozone\")\n",
    "o3_axes.set_ylabel(\"O3 Average Median (ppb)\")\n",
    "o3_axes.set_xlabel(\"Year\")\n",
    "\n",
    "o3_axes.get_figure().savefig(\"./output/Wuhan/Wuhan_3yearmedianchange_o3.png\")\n",
    "\n",
    "\n",
    "summary_bar_plot.pct_change()"
   ]
  },
  {
   "cell_type": "code",
   "execution_count": 35,
   "metadata": {},
   "outputs": [
    {
     "data": {
      "image/png": "[encoded data removed]",
      "text/plain": [
       "<Figure size 432x288 with 1 Axes>"
      ]
     },
     "metadata": {
      "needs_background": "light"
     },
     "output_type": "display_data"
    }
   ],
   "source": [
    "wuhan_2020_pm25_df = all_pm25_df.loc[(all_pm25_df.index.year == 2020) & (all_pm25_df[\"City\"] == \"Wuhan\")]\n",
    "wuhan_line_axes = wuhan_2020_pm25_df.plot(kind=\"line\", y=\"median (ug/m3)\")\n",
    "\n",
    "#set titles, axes labels\n",
    "wuhan_line_axes.set_title(\"Wuhan Air Quality 2020 - PM2.5\")\n",
    "wuhan_line_axes.set_ylabel(\"PM2.5 Average Median (ug/m3)\")\n",
    "wuhan_line_axes.set_xlabel(\"Month\")\n",
    "\n",
    "wuhan_line_axes.get_figure().savefig(\"./output/Wuhan/Wuhan_2020_line_plot.png\")"
   ]
  },
  {
   "cell_type": "code",
   "execution_count": null,
   "metadata": {},
   "outputs": [],
   "source": []
  }
 ],
 "metadata": {
  "kernelspec": {
   "display_name": "Python 3",
   "language": "python",
   "name": "python3"
  },
  "language_info": {
   "codemirror_mode": {
    "name": "ipython",
    "version": 3
   },
   "file_extension": ".py",
   "mimetype": "text/x-python",
   "name": "python",
   "nbconvert_exporter": "python",
   "pygments_lexer": "ipython3",
   "version": "3.7.6"
  }
 },
 "nbformat": 4,
 "nbformat_minor": 4
}
